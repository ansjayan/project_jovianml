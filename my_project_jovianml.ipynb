{
 "cells": [
  {
   "cell_type": "markdown",
   "metadata": {
    "id": "Omq8awrBJyT0"
   },
   "source": [
    "## Installing required packages"
   ]
  },
  {
   "cell_type": "code",
   "execution_count": 105,
   "metadata": {
    "executionInfo": {
     "elapsed": 24011,
     "status": "ok",
     "timestamp": 1601154455990,
     "user": {
      "displayName": "Ans Jayan",
      "photoUrl": "",
      "userId": "11941340864978647565"
     },
     "user_tz": -330
    },
    "id": "r2QclqMYJyT4"
   },
   "outputs": [],
   "source": [
    "!pip install altair --upgrade --quiet"
   ]
  },
  {
   "cell_type": "markdown",
   "metadata": {
    "id": "O9dYuXD4JyUK"
   },
   "source": [
    "## Importing libraries"
   ]
  },
  {
   "cell_type": "code",
   "execution_count": 1,
   "metadata": {
    "executionInfo": {
     "elapsed": 24001,
     "status": "ok",
     "timestamp": 1601154456002,
     "user": {
      "displayName": "Ans Jayan",
      "photoUrl": "",
      "userId": "11941340864978647565"
     },
     "user_tz": -330
    },
    "id": "sAA1c5jnJyUR"
   },
   "outputs": [],
   "source": [
    "import numpy as np\n",
    "import pandas as pd\n",
    "import altair as alt\n",
    "from altair.expr import datum\n",
    "import ast\n",
    "alt.data_transformers.disable_max_rows();"
   ]
  },
  {
   "cell_type": "markdown",
   "metadata": {
    "id": "tjHgnfEUJyV6"
   },
   "source": [
    "## The Movies Dataset from kaggle\n",
    "#### https://www.kaggle.com/rounakbanik/the-movies-dataset\n",
    "##### movies_metadata.csv, credits.csv"
   ]
  },
  {
   "cell_type": "code",
   "execution_count": 21,
   "metadata": {
    "executionInfo": {
     "elapsed": 32399,
     "status": "ok",
     "timestamp": 1601154464418,
     "user": {
      "displayName": "Ans Jayan",
      "photoUrl": "",
      "userId": "11941340864978647565"
     },
     "user_tz": -330
    },
    "id": "jRG0LdSPKvUV"
   },
   "outputs": [],
   "source": [
    "# credits.csv github file path\n",
    "credits_url = 'https://raw.githubusercontent.com/ansjayan/project_jovianml/master/credits.csv.zip'\n",
    "# credits_url = '/home/ans/Documents/jovianml/project_jovianml/credits.csv.zip'\n",
    "\n",
    "# movies_metadata.csv github file path\n",
    "movies_url = 'https://raw.githubusercontent.com/ansjayan/project_jovianml/master/movies_metadata.csv.zip'\n",
    "# movies_url = '/home/ans/Documents/jovianml/project_jovianml/movies_metadata.csv.zip'\n",
    "# reading movies_metadata.csv\n",
    "movies = pd.read_csv(movies_url, low_memory = False)\n",
    "# reading credits.csv\n",
    "credits = pd.read_csv(credits_url)"
   ]
  },
  {
   "cell_type": "code",
   "execution_count": 22,
   "metadata": {
    "colab": {
     "base_uri": "https://localhost:8080/",
     "height": 666
    },
    "executionInfo": {
     "elapsed": 32275,
     "status": "ok",
     "timestamp": 1601154464433,
     "user": {
      "displayName": "Ans Jayan",
      "photoUrl": "",
      "userId": "11941340864978647565"
     },
     "user_tz": -330
    },
    "id": "L6t7KhY9JyWR",
    "outputId": "cafb9ee2-0d8a-4951-afb7-b8d57a7d9533",
    "scrolled": true
   },
   "outputs": [
    {
     "data": {
      "text/html": [
       "<div>\n",
       "<style scoped>\n",
       "    .dataframe tbody tr th:only-of-type {\n",
       "        vertical-align: middle;\n",
       "    }\n",
       "\n",
       "    .dataframe tbody tr th {\n",
       "        vertical-align: top;\n",
       "    }\n",
       "\n",
       "    .dataframe thead th {\n",
       "        text-align: right;\n",
       "    }\n",
       "</style>\n",
       "<table border=\"1\" class=\"dataframe\">\n",
       "  <thead>\n",
       "    <tr style=\"text-align: right;\">\n",
       "      <th></th>\n",
       "      <th>adult</th>\n",
       "      <th>belongs_to_collection</th>\n",
       "      <th>budget</th>\n",
       "      <th>genres</th>\n",
       "      <th>homepage</th>\n",
       "      <th>id</th>\n",
       "      <th>imdb_id</th>\n",
       "      <th>original_language</th>\n",
       "      <th>original_title</th>\n",
       "      <th>overview</th>\n",
       "      <th>...</th>\n",
       "      <th>release_date</th>\n",
       "      <th>revenue</th>\n",
       "      <th>runtime</th>\n",
       "      <th>spoken_languages</th>\n",
       "      <th>status</th>\n",
       "      <th>tagline</th>\n",
       "      <th>title</th>\n",
       "      <th>video</th>\n",
       "      <th>vote_average</th>\n",
       "      <th>vote_count</th>\n",
       "    </tr>\n",
       "  </thead>\n",
       "  <tbody>\n",
       "    <tr>\n",
       "      <th>0</th>\n",
       "      <td>False</td>\n",
       "      <td>{'id': 10194, 'name': 'Toy Story Collection', ...</td>\n",
       "      <td>30000000</td>\n",
       "      <td>[{'id': 16, 'name': 'Animation'}, {'id': 35, '...</td>\n",
       "      <td>http://toystory.disney.com/toy-story</td>\n",
       "      <td>862</td>\n",
       "      <td>tt0114709</td>\n",
       "      <td>en</td>\n",
       "      <td>Toy Story</td>\n",
       "      <td>Led by Woody, Andy's toys live happily in his ...</td>\n",
       "      <td>...</td>\n",
       "      <td>1995-10-30</td>\n",
       "      <td>373554033.0</td>\n",
       "      <td>81.0</td>\n",
       "      <td>[{'iso_639_1': 'en', 'name': 'English'}]</td>\n",
       "      <td>Released</td>\n",
       "      <td>NaN</td>\n",
       "      <td>Toy Story</td>\n",
       "      <td>False</td>\n",
       "      <td>7.7</td>\n",
       "      <td>5415.0</td>\n",
       "    </tr>\n",
       "    <tr>\n",
       "      <th>1</th>\n",
       "      <td>False</td>\n",
       "      <td>NaN</td>\n",
       "      <td>65000000</td>\n",
       "      <td>[{'id': 12, 'name': 'Adventure'}, {'id': 14, '...</td>\n",
       "      <td>NaN</td>\n",
       "      <td>8844</td>\n",
       "      <td>tt0113497</td>\n",
       "      <td>en</td>\n",
       "      <td>Jumanji</td>\n",
       "      <td>When siblings Judy and Peter discover an encha...</td>\n",
       "      <td>...</td>\n",
       "      <td>1995-12-15</td>\n",
       "      <td>262797249.0</td>\n",
       "      <td>104.0</td>\n",
       "      <td>[{'iso_639_1': 'en', 'name': 'English'}, {'iso...</td>\n",
       "      <td>Released</td>\n",
       "      <td>Roll the dice and unleash the excitement!</td>\n",
       "      <td>Jumanji</td>\n",
       "      <td>False</td>\n",
       "      <td>6.9</td>\n",
       "      <td>2413.0</td>\n",
       "    </tr>\n",
       "    <tr>\n",
       "      <th>2</th>\n",
       "      <td>False</td>\n",
       "      <td>{'id': 119050, 'name': 'Grumpy Old Men Collect...</td>\n",
       "      <td>0</td>\n",
       "      <td>[{'id': 10749, 'name': 'Romance'}, {'id': 35, ...</td>\n",
       "      <td>NaN</td>\n",
       "      <td>15602</td>\n",
       "      <td>tt0113228</td>\n",
       "      <td>en</td>\n",
       "      <td>Grumpier Old Men</td>\n",
       "      <td>A family wedding reignites the ancient feud be...</td>\n",
       "      <td>...</td>\n",
       "      <td>1995-12-22</td>\n",
       "      <td>0.0</td>\n",
       "      <td>101.0</td>\n",
       "      <td>[{'iso_639_1': 'en', 'name': 'English'}]</td>\n",
       "      <td>Released</td>\n",
       "      <td>Still Yelling. Still Fighting. Still Ready for...</td>\n",
       "      <td>Grumpier Old Men</td>\n",
       "      <td>False</td>\n",
       "      <td>6.5</td>\n",
       "      <td>92.0</td>\n",
       "    </tr>\n",
       "    <tr>\n",
       "      <th>3</th>\n",
       "      <td>False</td>\n",
       "      <td>NaN</td>\n",
       "      <td>16000000</td>\n",
       "      <td>[{'id': 35, 'name': 'Comedy'}, {'id': 18, 'nam...</td>\n",
       "      <td>NaN</td>\n",
       "      <td>31357</td>\n",
       "      <td>tt0114885</td>\n",
       "      <td>en</td>\n",
       "      <td>Waiting to Exhale</td>\n",
       "      <td>Cheated on, mistreated and stepped on, the wom...</td>\n",
       "      <td>...</td>\n",
       "      <td>1995-12-22</td>\n",
       "      <td>81452156.0</td>\n",
       "      <td>127.0</td>\n",
       "      <td>[{'iso_639_1': 'en', 'name': 'English'}]</td>\n",
       "      <td>Released</td>\n",
       "      <td>Friends are the people who let you be yourself...</td>\n",
       "      <td>Waiting to Exhale</td>\n",
       "      <td>False</td>\n",
       "      <td>6.1</td>\n",
       "      <td>34.0</td>\n",
       "    </tr>\n",
       "    <tr>\n",
       "      <th>4</th>\n",
       "      <td>False</td>\n",
       "      <td>{'id': 96871, 'name': 'Father of the Bride Col...</td>\n",
       "      <td>0</td>\n",
       "      <td>[{'id': 35, 'name': 'Comedy'}]</td>\n",
       "      <td>NaN</td>\n",
       "      <td>11862</td>\n",
       "      <td>tt0113041</td>\n",
       "      <td>en</td>\n",
       "      <td>Father of the Bride Part II</td>\n",
       "      <td>Just when George Banks has recovered from his ...</td>\n",
       "      <td>...</td>\n",
       "      <td>1995-02-10</td>\n",
       "      <td>76578911.0</td>\n",
       "      <td>106.0</td>\n",
       "      <td>[{'iso_639_1': 'en', 'name': 'English'}]</td>\n",
       "      <td>Released</td>\n",
       "      <td>Just When His World Is Back To Normal... He's ...</td>\n",
       "      <td>Father of the Bride Part II</td>\n",
       "      <td>False</td>\n",
       "      <td>5.7</td>\n",
       "      <td>173.0</td>\n",
       "    </tr>\n",
       "  </tbody>\n",
       "</table>\n",
       "<p>5 rows × 24 columns</p>\n",
       "</div>"
      ],
      "text/plain": [
       "   adult                              belongs_to_collection    budget  \\\n",
       "0  False  {'id': 10194, 'name': 'Toy Story Collection', ...  30000000   \n",
       "1  False                                                NaN  65000000   \n",
       "2  False  {'id': 119050, 'name': 'Grumpy Old Men Collect...         0   \n",
       "3  False                                                NaN  16000000   \n",
       "4  False  {'id': 96871, 'name': 'Father of the Bride Col...         0   \n",
       "\n",
       "                                              genres  \\\n",
       "0  [{'id': 16, 'name': 'Animation'}, {'id': 35, '...   \n",
       "1  [{'id': 12, 'name': 'Adventure'}, {'id': 14, '...   \n",
       "2  [{'id': 10749, 'name': 'Romance'}, {'id': 35, ...   \n",
       "3  [{'id': 35, 'name': 'Comedy'}, {'id': 18, 'nam...   \n",
       "4                     [{'id': 35, 'name': 'Comedy'}]   \n",
       "\n",
       "                               homepage     id    imdb_id original_language  \\\n",
       "0  http://toystory.disney.com/toy-story    862  tt0114709                en   \n",
       "1                                   NaN   8844  tt0113497                en   \n",
       "2                                   NaN  15602  tt0113228                en   \n",
       "3                                   NaN  31357  tt0114885                en   \n",
       "4                                   NaN  11862  tt0113041                en   \n",
       "\n",
       "                original_title  \\\n",
       "0                    Toy Story   \n",
       "1                      Jumanji   \n",
       "2             Grumpier Old Men   \n",
       "3            Waiting to Exhale   \n",
       "4  Father of the Bride Part II   \n",
       "\n",
       "                                            overview  ... release_date  \\\n",
       "0  Led by Woody, Andy's toys live happily in his ...  ...   1995-10-30   \n",
       "1  When siblings Judy and Peter discover an encha...  ...   1995-12-15   \n",
       "2  A family wedding reignites the ancient feud be...  ...   1995-12-22   \n",
       "3  Cheated on, mistreated and stepped on, the wom...  ...   1995-12-22   \n",
       "4  Just when George Banks has recovered from his ...  ...   1995-02-10   \n",
       "\n",
       "       revenue runtime                                   spoken_languages  \\\n",
       "0  373554033.0    81.0           [{'iso_639_1': 'en', 'name': 'English'}]   \n",
       "1  262797249.0   104.0  [{'iso_639_1': 'en', 'name': 'English'}, {'iso...   \n",
       "2          0.0   101.0           [{'iso_639_1': 'en', 'name': 'English'}]   \n",
       "3   81452156.0   127.0           [{'iso_639_1': 'en', 'name': 'English'}]   \n",
       "4   76578911.0   106.0           [{'iso_639_1': 'en', 'name': 'English'}]   \n",
       "\n",
       "     status                                            tagline  \\\n",
       "0  Released                                                NaN   \n",
       "1  Released          Roll the dice and unleash the excitement!   \n",
       "2  Released  Still Yelling. Still Fighting. Still Ready for...   \n",
       "3  Released  Friends are the people who let you be yourself...   \n",
       "4  Released  Just When His World Is Back To Normal... He's ...   \n",
       "\n",
       "                         title  video vote_average vote_count  \n",
       "0                    Toy Story  False          7.7     5415.0  \n",
       "1                      Jumanji  False          6.9     2413.0  \n",
       "2             Grumpier Old Men  False          6.5       92.0  \n",
       "3            Waiting to Exhale  False          6.1       34.0  \n",
       "4  Father of the Bride Part II  False          5.7      173.0  \n",
       "\n",
       "[5 rows x 24 columns]"
      ]
     },
     "execution_count": 22,
     "metadata": {},
     "output_type": "execute_result"
    }
   ],
   "source": [
    "# first 5 rows of movies dataframe\n",
    "movies.head()"
   ]
  },
  {
   "cell_type": "code",
   "execution_count": 23,
   "metadata": {
    "colab": {
     "base_uri": "https://localhost:8080/",
     "height": 544
    },
    "executionInfo": {
     "elapsed": 32156,
     "status": "ok",
     "timestamp": 1601154464454,
     "user": {
      "displayName": "Ans Jayan",
      "photoUrl": "",
      "userId": "11941340864978647565"
     },
     "user_tz": -330
    },
    "id": "cnZxOZTpJyWh",
    "outputId": "4356d7c1-91d9-4608-938f-591179f2e8d7",
    "scrolled": true
   },
   "outputs": [
    {
     "name": "stdout",
     "output_type": "stream",
     "text": [
      "<class 'pandas.core.frame.DataFrame'>\n",
      "RangeIndex: 45466 entries, 0 to 45465\n",
      "Data columns (total 24 columns):\n",
      " #   Column                 Non-Null Count  Dtype  \n",
      "---  ------                 --------------  -----  \n",
      " 0   adult                  45466 non-null  object \n",
      " 1   belongs_to_collection  4494 non-null   object \n",
      " 2   budget                 45466 non-null  object \n",
      " 3   genres                 45466 non-null  object \n",
      " 4   homepage               7782 non-null   object \n",
      " 5   id                     45466 non-null  object \n",
      " 6   imdb_id                45449 non-null  object \n",
      " 7   original_language      45455 non-null  object \n",
      " 8   original_title         45466 non-null  object \n",
      " 9   overview               44512 non-null  object \n",
      " 10  popularity             45461 non-null  object \n",
      " 11  poster_path            45080 non-null  object \n",
      " 12  production_companies   45463 non-null  object \n",
      " 13  production_countries   45463 non-null  object \n",
      " 14  release_date           45379 non-null  object \n",
      " 15  revenue                45460 non-null  float64\n",
      " 16  runtime                45203 non-null  float64\n",
      " 17  spoken_languages       45460 non-null  object \n",
      " 18  status                 45379 non-null  object \n",
      " 19  tagline                20412 non-null  object \n",
      " 20  title                  45460 non-null  object \n",
      " 21  video                  45460 non-null  object \n",
      " 22  vote_average           45460 non-null  float64\n",
      " 23  vote_count             45460 non-null  float64\n",
      "dtypes: float64(4), object(20)\n",
      "memory usage: 8.3+ MB\n"
     ]
    }
   ],
   "source": [
    "# summary of movies dataframe\n",
    "movies.info()"
   ]
  },
  {
   "cell_type": "code",
   "execution_count": 24,
   "metadata": {
    "colab": {
     "base_uri": "https://localhost:8080/",
     "height": 204
    },
    "executionInfo": {
     "elapsed": 32058,
     "status": "ok",
     "timestamp": 1601154464460,
     "user": {
      "displayName": "Ans Jayan",
      "photoUrl": "",
      "userId": "11941340864978647565"
     },
     "user_tz": -330
    },
    "id": "vPpq4qDMJyW0",
    "outputId": "24c6ba3b-5de4-44c1-9422-893918fc5b80"
   },
   "outputs": [
    {
     "data": {
      "text/html": [
       "<div>\n",
       "<style scoped>\n",
       "    .dataframe tbody tr th:only-of-type {\n",
       "        vertical-align: middle;\n",
       "    }\n",
       "\n",
       "    .dataframe tbody tr th {\n",
       "        vertical-align: top;\n",
       "    }\n",
       "\n",
       "    .dataframe thead th {\n",
       "        text-align: right;\n",
       "    }\n",
       "</style>\n",
       "<table border=\"1\" class=\"dataframe\">\n",
       "  <thead>\n",
       "    <tr style=\"text-align: right;\">\n",
       "      <th></th>\n",
       "      <th>cast</th>\n",
       "      <th>crew</th>\n",
       "      <th>id</th>\n",
       "    </tr>\n",
       "  </thead>\n",
       "  <tbody>\n",
       "    <tr>\n",
       "      <th>0</th>\n",
       "      <td>[{'cast_id': 14, 'character': 'Woody (voice)',...</td>\n",
       "      <td>[{'credit_id': '52fe4284c3a36847f8024f49', 'de...</td>\n",
       "      <td>862</td>\n",
       "    </tr>\n",
       "    <tr>\n",
       "      <th>1</th>\n",
       "      <td>[{'cast_id': 1, 'character': 'Alan Parrish', '...</td>\n",
       "      <td>[{'credit_id': '52fe44bfc3a36847f80a7cd1', 'de...</td>\n",
       "      <td>8844</td>\n",
       "    </tr>\n",
       "    <tr>\n",
       "      <th>2</th>\n",
       "      <td>[{'cast_id': 2, 'character': 'Max Goldman', 'c...</td>\n",
       "      <td>[{'credit_id': '52fe466a9251416c75077a89', 'de...</td>\n",
       "      <td>15602</td>\n",
       "    </tr>\n",
       "    <tr>\n",
       "      <th>3</th>\n",
       "      <td>[{'cast_id': 1, 'character': \"Savannah 'Vannah...</td>\n",
       "      <td>[{'credit_id': '52fe44779251416c91011acb', 'de...</td>\n",
       "      <td>31357</td>\n",
       "    </tr>\n",
       "    <tr>\n",
       "      <th>4</th>\n",
       "      <td>[{'cast_id': 1, 'character': 'George Banks', '...</td>\n",
       "      <td>[{'credit_id': '52fe44959251416c75039ed7', 'de...</td>\n",
       "      <td>11862</td>\n",
       "    </tr>\n",
       "  </tbody>\n",
       "</table>\n",
       "</div>"
      ],
      "text/plain": [
       "                                                cast  \\\n",
       "0  [{'cast_id': 14, 'character': 'Woody (voice)',...   \n",
       "1  [{'cast_id': 1, 'character': 'Alan Parrish', '...   \n",
       "2  [{'cast_id': 2, 'character': 'Max Goldman', 'c...   \n",
       "3  [{'cast_id': 1, 'character': \"Savannah 'Vannah...   \n",
       "4  [{'cast_id': 1, 'character': 'George Banks', '...   \n",
       "\n",
       "                                                crew     id  \n",
       "0  [{'credit_id': '52fe4284c3a36847f8024f49', 'de...    862  \n",
       "1  [{'credit_id': '52fe44bfc3a36847f80a7cd1', 'de...   8844  \n",
       "2  [{'credit_id': '52fe466a9251416c75077a89', 'de...  15602  \n",
       "3  [{'credit_id': '52fe44779251416c91011acb', 'de...  31357  \n",
       "4  [{'credit_id': '52fe44959251416c75039ed7', 'de...  11862  "
      ]
     },
     "execution_count": 24,
     "metadata": {},
     "output_type": "execute_result"
    }
   ],
   "source": [
    "# first 5 rows of credits dataframe\n",
    "credits.head()"
   ]
  },
  {
   "cell_type": "code",
   "execution_count": 25,
   "metadata": {
    "colab": {
     "base_uri": "https://localhost:8080/",
     "height": 187
    },
    "executionInfo": {
     "elapsed": 31985,
     "status": "ok",
     "timestamp": 1601154464465,
     "user": {
      "displayName": "Ans Jayan",
      "photoUrl": "",
      "userId": "11941340864978647565"
     },
     "user_tz": -330
    },
    "id": "K52uGGq3JyXF",
    "outputId": "36e98228-066a-4a7e-f3ab-e6415c94a8fa",
    "scrolled": false
   },
   "outputs": [
    {
     "name": "stdout",
     "output_type": "stream",
     "text": [
      "<class 'pandas.core.frame.DataFrame'>\n",
      "RangeIndex: 45476 entries, 0 to 45475\n",
      "Data columns (total 3 columns):\n",
      " #   Column  Non-Null Count  Dtype \n",
      "---  ------  --------------  ----- \n",
      " 0   cast    45476 non-null  object\n",
      " 1   crew    45476 non-null  object\n",
      " 2   id      45476 non-null  int64 \n",
      "dtypes: int64(1), object(2)\n",
      "memory usage: 1.0+ MB\n"
     ]
    }
   ],
   "source": [
    "# summary of credits dataframe\n",
    "credits.info()"
   ]
  },
  {
   "cell_type": "code",
   "execution_count": 7,
   "metadata": {
    "colab": {
     "base_uri": "https://localhost:8080/",
     "height": 86
    },
    "executionInfo": {
     "elapsed": 36354,
     "status": "ok",
     "timestamp": 1601154468895,
     "user": {
      "displayName": "Ans Jayan",
      "photoUrl": "",
      "userId": "11941340864978647565"
     },
     "user_tz": -330
    },
    "id": "OAAfh51do7ga",
    "outputId": "258c90f1-3e18-44d7-9928-7b9bfaa32f42"
   },
   "outputs": [
    {
     "ename": "NameError",
     "evalue": "name 'jovian' is not defined",
     "output_type": "error",
     "traceback": [
      "\u001b[0;31m---------------------------------------------------------------------------\u001b[0m",
      "\u001b[0;31mNameError\u001b[0m                                 Traceback (most recent call last)",
      "\u001b[0;32m<ipython-input-7-ad7ba0779e78>\u001b[0m in \u001b[0;36m<module>\u001b[0;34m\u001b[0m\n\u001b[1;32m      1\u001b[0m \u001b[0;31m# commit to jovian.ml\u001b[0m\u001b[0;34m\u001b[0m\u001b[0;34m\u001b[0m\u001b[0;34m\u001b[0m\u001b[0m\n\u001b[0;32m----> 2\u001b[0;31m \u001b[0mjovian\u001b[0m\u001b[0;34m.\u001b[0m\u001b[0mcommit\u001b[0m\u001b[0;34m(\u001b[0m\u001b[0mproject\u001b[0m\u001b[0;34m=\u001b[0m\u001b[0;34m'my-project'\u001b[0m\u001b[0;34m,\u001b[0m \u001b[0menvironment\u001b[0m\u001b[0;34m=\u001b[0m\u001b[0;32mNone\u001b[0m\u001b[0;34m)\u001b[0m\u001b[0;34m\u001b[0m\u001b[0;34m\u001b[0m\u001b[0m\n\u001b[0m",
      "\u001b[0;31mNameError\u001b[0m: name 'jovian' is not defined"
     ]
    }
   ],
   "source": [
    "# commit to jovian.ml\n",
    "jovian.commit(project='my-project', environment=None)"
   ]
  },
  {
   "cell_type": "markdown",
   "metadata": {
    "id": "ZI4nMK8xJyXZ"
   },
   "source": [
    "# Data Preparation and Cleaning"
   ]
  },
  {
   "cell_type": "code",
   "execution_count": 8,
   "metadata": {
    "colab": {
     "base_uri": "https://localhost:8080/",
     "height": 51
    },
    "executionInfo": {
     "elapsed": 36300,
     "status": "ok",
     "timestamp": 1601154468899,
     "user": {
      "displayName": "Ans Jayan",
      "photoUrl": "",
      "userId": "11941340864978647565"
     },
     "user_tz": -330
    },
    "id": "74raM5SSJyXd",
    "outputId": "25ee3b45-784a-4f33-d8b3-2ff78435563c",
    "scrolled": true
   },
   "outputs": [
    {
     "name": "stdout",
     "output_type": "stream",
     "text": [
      "0\n",
      "6\n"
     ]
    }
   ],
   "source": [
    "# number of na in movies id, isna returns boolean series, which is summed\n",
    "print(movies.id.isna().sum())\n",
    "# number of na in movies title, isna gives boolean series, which is summed\n",
    "print(movies.title.isna().sum())"
   ]
  },
  {
   "cell_type": "code",
   "execution_count": 9,
   "metadata": {
    "colab": {
     "base_uri": "https://localhost:8080/",
     "height": 34
    },
    "executionInfo": {
     "elapsed": 36278,
     "status": "ok",
     "timestamp": 1601154468919,
     "user": {
      "displayName": "Ans Jayan",
      "photoUrl": "",
      "userId": "11941340864978647565"
     },
     "user_tz": -330
    },
    "id": "v8Vp1BjgJyXs",
    "outputId": "8d9fa3ef-eb04-49bc-d378-98f1af15addf"
   },
   "outputs": [
    {
     "data": {
      "text/plain": [
       "0"
      ]
     },
     "execution_count": 9,
     "metadata": {},
     "output_type": "execute_result"
    }
   ],
   "source": [
    "# filling na in title column with values form original_title\n",
    "# if title has na, that is replaced with value from original_title\n",
    "movies.title = movies.title.fillna(value = movies.original_title)\n",
    "movies.title.isna().sum()"
   ]
  },
  {
   "cell_type": "code",
   "execution_count": 10,
   "metadata": {
    "colab": {
     "base_uri": "https://localhost:8080/",
     "height": 34
    },
    "executionInfo": {
     "elapsed": 36232,
     "status": "ok",
     "timestamp": 1601154468933,
     "user": {
      "displayName": "Ans Jayan",
      "photoUrl": "",
      "userId": "11941340864978647565"
     },
     "user_tz": -330
    },
    "id": "7FUAP6gWJyX6",
    "outputId": "ae3f0348-23f2-4c8b-bbde-f1b459fc4c7a"
   },
   "outputs": [
    {
     "data": {
      "text/plain": [
       "0"
      ]
     },
     "execution_count": 10,
     "metadata": {},
     "output_type": "execute_result"
    }
   ],
   "source": [
    "# title and id is required for analysis, if na in id column remove that rows\n",
    "movies.dropna(subset = [\"id\"], inplace = True)\n",
    "# number of na in id column, isna gives boolean series, which is summed\n",
    "movies.id.isna().sum()"
   ]
  },
  {
   "cell_type": "code",
   "execution_count": 11,
   "metadata": {
    "executionInfo": {
     "elapsed": 36226,
     "status": "ok",
     "timestamp": 1601154468941,
     "user": {
      "displayName": "Ans Jayan",
      "photoUrl": "",
      "userId": "11941340864978647565"
     },
     "user_tz": -330
    },
    "id": "MWz6sDUPJyYI"
   },
   "outputs": [],
   "source": [
    "# converting movies id to int from float\n",
    "# movies.id = movies.id.astype(\"int\") # other equivalent is pd.to_numeric()\n",
    "# to_numeric converts id to numeric values\n",
    "movies[\"id\"] = pd.to_numeric(movies.id, errors = 'coerce', downcast = \"integer\")"
   ]
  },
  {
   "cell_type": "code",
   "execution_count": 12,
   "metadata": {
    "colab": {
     "base_uri": "https://localhost:8080/",
     "height": 499
    },
    "executionInfo": {
     "elapsed": 36158,
     "status": "ok",
     "timestamp": 1601154468955,
     "user": {
      "displayName": "Ans Jayan",
      "photoUrl": "",
      "userId": "11941340864978647565"
     },
     "user_tz": -330
    },
    "id": "JQYoukXGJyYW",
    "outputId": "76f00e5d-7dc0-4c7f-b30d-368fa0fec78c",
    "scrolled": true
   },
   "outputs": [
    {
     "data": {
      "text/html": [
       "<div>\n",
       "<style scoped>\n",
       "    .dataframe tbody tr th:only-of-type {\n",
       "        vertical-align: middle;\n",
       "    }\n",
       "\n",
       "    .dataframe tbody tr th {\n",
       "        vertical-align: top;\n",
       "    }\n",
       "\n",
       "    .dataframe thead th {\n",
       "        text-align: right;\n",
       "    }\n",
       "</style>\n",
       "<table border=\"1\" class=\"dataframe\">\n",
       "  <thead>\n",
       "    <tr style=\"text-align: right;\">\n",
       "      <th></th>\n",
       "      <th>movies_metadata.csv</th>\n",
       "      <th>belongs_to_collection</th>\n",
       "      <th>budget</th>\n",
       "      <th>genres</th>\n",
       "      <th>homepage</th>\n",
       "      <th>id</th>\n",
       "      <th>imdb_id</th>\n",
       "      <th>original_language</th>\n",
       "      <th>original_title</th>\n",
       "      <th>overview</th>\n",
       "      <th>...</th>\n",
       "      <th>release_date</th>\n",
       "      <th>revenue</th>\n",
       "      <th>runtime</th>\n",
       "      <th>spoken_languages</th>\n",
       "      <th>status</th>\n",
       "      <th>tagline</th>\n",
       "      <th>title</th>\n",
       "      <th>video</th>\n",
       "      <th>vote_average</th>\n",
       "      <th>vote_count</th>\n",
       "    </tr>\n",
       "  </thead>\n",
       "  <tbody>\n",
       "    <tr>\n",
       "      <th>42883</th>\n",
       "      <td>False</td>\n",
       "      <td>NaN</td>\n",
       "      <td>0</td>\n",
       "      <td>[]</td>\n",
       "      <td>NaN</td>\n",
       "      <td>401840.0</td>\n",
       "      <td>tt3291632</td>\n",
       "      <td>es</td>\n",
       "      <td>School's out</td>\n",
       "      <td>Two high school kids mentored by a nightclub o...</td>\n",
       "      <td>...</td>\n",
       "      <td>2017-05-30</td>\n",
       "      <td>0.0</td>\n",
       "      <td>0.0</td>\n",
       "      <td>[]</td>\n",
       "      <td>Released</td>\n",
       "      <td>NaN</td>\n",
       "      <td>School's out</td>\n",
       "      <td>False</td>\n",
       "      <td>0.0</td>\n",
       "      <td>0.0</td>\n",
       "    </tr>\n",
       "  </tbody>\n",
       "</table>\n",
       "<p>1 rows × 24 columns</p>\n",
       "</div>"
      ],
      "text/plain": [
       "      movies_metadata.csv belongs_to_collection budget genres homepage  \\\n",
       "42883               False                   NaN      0     []      NaN   \n",
       "\n",
       "             id    imdb_id original_language original_title  \\\n",
       "42883  401840.0  tt3291632                es   School's out   \n",
       "\n",
       "                                                overview  ... release_date  \\\n",
       "42883  Two high school kids mentored by a nightclub o...  ...   2017-05-30   \n",
       "\n",
       "      revenue runtime spoken_languages    status  tagline         title  \\\n",
       "42883     0.0     0.0               []  Released      NaN  School's out   \n",
       "\n",
       "       video vote_average vote_count  \n",
       "42883  False          0.0        0.0  \n",
       "\n",
       "[1 rows x 24 columns]"
      ]
     },
     "execution_count": 12,
     "metadata": {},
     "output_type": "execute_result"
    }
   ],
   "source": [
    "# Is there any movies id not in credits id.\n",
    "# isin returns boolean values, ~ negated\n",
    "movies[~movies.id.isin(credits.id)]"
   ]
  },
  {
   "cell_type": "code",
   "execution_count": 13,
   "metadata": {
    "colab": {
     "base_uri": "https://localhost:8080/",
     "height": 49
    },
    "executionInfo": {
     "elapsed": 36098,
     "status": "ok",
     "timestamp": 1601154468966,
     "user": {
      "displayName": "Ans Jayan",
      "photoUrl": "",
      "userId": "11941340864978647565"
     },
     "user_tz": -330
    },
    "id": "jEqK7b70JyYm",
    "outputId": "48cc496c-ac64-41d5-8774-986050ffa071",
    "scrolled": true
   },
   "outputs": [
    {
     "data": {
      "text/html": [
       "<div>\n",
       "<style scoped>\n",
       "    .dataframe tbody tr th:only-of-type {\n",
       "        vertical-align: middle;\n",
       "    }\n",
       "\n",
       "    .dataframe tbody tr th {\n",
       "        vertical-align: top;\n",
       "    }\n",
       "\n",
       "    .dataframe thead th {\n",
       "        text-align: right;\n",
       "    }\n",
       "</style>\n",
       "<table border=\"1\" class=\"dataframe\">\n",
       "  <thead>\n",
       "    <tr style=\"text-align: right;\">\n",
       "      <th></th>\n",
       "      <th>credits.csv</th>\n",
       "      <th>crew</th>\n",
       "      <th>id</th>\n",
       "    </tr>\n",
       "  </thead>\n",
       "  <tbody>\n",
       "  </tbody>\n",
       "</table>\n",
       "</div>"
      ],
      "text/plain": [
       "Empty DataFrame\n",
       "Columns: [credits.csv, crew, id]\n",
       "Index: []"
      ]
     },
     "execution_count": 13,
     "metadata": {},
     "output_type": "execute_result"
    }
   ],
   "source": [
    "# Is there any credits id not in movies id\n",
    "credits[~credits.id.isin(movies.id)]"
   ]
  },
  {
   "cell_type": "code",
   "execution_count": 14,
   "metadata": {
    "executionInfo": {
     "elapsed": 36086,
     "status": "ok",
     "timestamp": 1601154468979,
     "user": {
      "displayName": "Ans Jayan",
      "photoUrl": "",
      "userId": "11941340864978647565"
     },
     "user_tz": -330
    },
    "id": "LNJB880iJyY1",
    "scrolled": true
   },
   "outputs": [],
   "source": [
    "# Merging movies to credits.\n",
    "# as credits has only 3 columns which are useless if others[movies] are not there.\n",
    "# merging on id column, using left method. here movies is left.\n",
    "movies = movies.merge(credits, how = \"left\", left_on = \"id\", right_on = \"id\")"
   ]
  },
  {
   "cell_type": "code",
   "execution_count": 15,
   "metadata": {
    "colab": {
     "base_uri": "https://localhost:8080/",
     "height": 136
    },
    "executionInfo": {
     "elapsed": 36059,
     "status": "ok",
     "timestamp": 1601154469005,
     "user": {
      "displayName": "Ans Jayan",
      "photoUrl": "",
      "userId": "11941340864978647565"
     },
     "user_tz": -330
    },
    "id": "ER4zQVTlJyZD",
    "outputId": "a6a548b9-8a77-48ce-8aa4-cb9ecffcddc3"
   },
   "outputs": [
    {
     "data": {
      "text/plain": [
       "Released           45088\n",
       "Rumored              232\n",
       "Post Production       98\n",
       "In Production         20\n",
       "Planned               15\n",
       "Canceled               2\n",
       "Name: status, dtype: int64"
      ]
     },
     "execution_count": 15,
     "metadata": {},
     "output_type": "execute_result"
    }
   ],
   "source": [
    "# return counts of unique values.\n",
    "movies.status.value_counts()"
   ]
  },
  {
   "cell_type": "code",
   "execution_count": 16,
   "metadata": {
    "executionInfo": {
     "elapsed": 36050,
     "status": "ok",
     "timestamp": 1601154469014,
     "user": {
      "displayName": "Ans Jayan",
      "photoUrl": "",
      "userId": "11941340864978647565"
     },
     "user_tz": -330
    },
    "id": "X1JhHiNPzAla",
    "scrolled": true
   },
   "outputs": [],
   "source": [
    "# Selecting only released movies\n",
    "movies = movies.loc[movies.status == 'Released'].copy()"
   ]
  },
  {
   "cell_type": "code",
   "execution_count": 17,
   "metadata": {
    "executionInfo": {
     "elapsed": 36027,
     "status": "ok",
     "timestamp": 1601154469025,
     "user": {
      "displayName": "Ans Jayan",
      "photoUrl": "",
      "userId": "11941340864978647565"
     },
     "user_tz": -330
    },
    "id": "sO1VPwLJJyZZ"
   },
   "outputs": [],
   "source": [
    "# unique values of id column\n",
    "# print(movies.id.value_counts())\n",
    "# checking duplicated columns\n",
    "# print(movies[movies.duplicated(subset = ['id'], keep = False)].sort_values(by = 'id').head())\n",
    "# dropping duplicated values\n",
    "movies.drop_duplicates(inplace = True)\n",
    "# dropping duplicated values based on id column\n",
    "movies.drop_duplicates(subset = \"id\", inplace = True)"
   ]
  },
  {
   "cell_type": "code",
   "execution_count": 18,
   "metadata": {
    "colab": {
     "base_uri": "https://localhost:8080/",
     "height": 86
    },
    "executionInfo": {
     "elapsed": 38466,
     "status": "ok",
     "timestamp": 1601154471520,
     "user": {
      "displayName": "Ans Jayan",
      "photoUrl": "",
      "userId": "11941340864978647565"
     },
     "user_tz": -330
    },
    "id": "wK_dS6mpqMIl",
    "outputId": "e637d8f2-f80e-4dd1-989d-df609f455589"
   },
   "outputs": [
    {
     "ename": "NameError",
     "evalue": "name 'jovian' is not defined",
     "output_type": "error",
     "traceback": [
      "\u001b[0;31m---------------------------------------------------------------------------\u001b[0m",
      "\u001b[0;31mNameError\u001b[0m                                 Traceback (most recent call last)",
      "\u001b[0;32m<ipython-input-18-ad7ba0779e78>\u001b[0m in \u001b[0;36m<module>\u001b[0;34m\u001b[0m\n\u001b[1;32m      1\u001b[0m \u001b[0;31m# commit to jovian.ml\u001b[0m\u001b[0;34m\u001b[0m\u001b[0;34m\u001b[0m\u001b[0;34m\u001b[0m\u001b[0m\n\u001b[0;32m----> 2\u001b[0;31m \u001b[0mjovian\u001b[0m\u001b[0;34m.\u001b[0m\u001b[0mcommit\u001b[0m\u001b[0;34m(\u001b[0m\u001b[0mproject\u001b[0m\u001b[0;34m=\u001b[0m\u001b[0;34m'my-project'\u001b[0m\u001b[0;34m,\u001b[0m \u001b[0menvironment\u001b[0m\u001b[0;34m=\u001b[0m\u001b[0;32mNone\u001b[0m\u001b[0;34m)\u001b[0m\u001b[0;34m\u001b[0m\u001b[0;34m\u001b[0m\u001b[0m\n\u001b[0m",
      "\u001b[0;31mNameError\u001b[0m: name 'jovian' is not defined"
     ]
    }
   ],
   "source": [
    "# commit to jovian.ml\n",
    "jovian.commit(project='my-project', environment=None)"
   ]
  },
  {
   "cell_type": "markdown",
   "metadata": {
    "id": "N5JqA6uPJyZz"
   },
   "source": [
    " ## Converting columns to proper format"
   ]
  },
  {
   "cell_type": "code",
   "execution_count": 19,
   "metadata": {
    "executionInfo": {
     "elapsed": 38447,
     "status": "ok",
     "timestamp": 1601154471525,
     "user": {
      "displayName": "Ans Jayan",
      "photoUrl": "",
      "userId": "11941340864978647565"
     },
     "user_tz": -330
    },
    "id": "AFe5nM6yJyZ2"
   },
   "outputs": [
    {
     "ename": "AttributeError",
     "evalue": "'DataFrame' object has no attribute 'adult'",
     "output_type": "error",
     "traceback": [
      "\u001b[0;31m---------------------------------------------------------------------------\u001b[0m",
      "\u001b[0;31mAttributeError\u001b[0m                            Traceback (most recent call last)",
      "\u001b[0;32m<ipython-input-19-3df424c0ea4d>\u001b[0m in \u001b[0;36m<module>\u001b[0;34m\u001b[0m\n\u001b[1;32m      1\u001b[0m \u001b[0;31m# converting adult column dtype object to bool.\u001b[0m\u001b[0;34m\u001b[0m\u001b[0;34m\u001b[0m\u001b[0;34m\u001b[0m\u001b[0m\n\u001b[1;32m      2\u001b[0m \u001b[0;31m# apply method applies a lambda function, which replace str to bool.\u001b[0m\u001b[0;34m\u001b[0m\u001b[0;34m\u001b[0m\u001b[0;34m\u001b[0m\u001b[0m\n\u001b[0;32m----> 3\u001b[0;31m \u001b[0mmovies\u001b[0m\u001b[0;34m.\u001b[0m\u001b[0madult\u001b[0m \u001b[0;34m=\u001b[0m \u001b[0mmovies\u001b[0m\u001b[0;34m.\u001b[0m\u001b[0madult\u001b[0m\u001b[0;34m.\u001b[0m\u001b[0mapply\u001b[0m\u001b[0;34m(\u001b[0m\u001b[0;32mlambda\u001b[0m \u001b[0mx\u001b[0m\u001b[0;34m:\u001b[0m \u001b[0;32mFalse\u001b[0m \u001b[0;32mif\u001b[0m \u001b[0mx\u001b[0m \u001b[0;34m==\u001b[0m \u001b[0;34m'False'\u001b[0m \u001b[0;32melse\u001b[0m \u001b[0;32mTrue\u001b[0m\u001b[0;34m)\u001b[0m\u001b[0;34m\u001b[0m\u001b[0;34m\u001b[0m\u001b[0m\n\u001b[0m",
      "\u001b[0;32m~/.anaconda3/lib/python3.8/site-packages/pandas/core/generic.py\u001b[0m in \u001b[0;36m__getattr__\u001b[0;34m(self, name)\u001b[0m\n\u001b[1;32m   5134\u001b[0m             \u001b[0;32mif\u001b[0m \u001b[0mself\u001b[0m\u001b[0;34m.\u001b[0m\u001b[0m_info_axis\u001b[0m\u001b[0;34m.\u001b[0m\u001b[0m_can_hold_identifiers_and_holds_name\u001b[0m\u001b[0;34m(\u001b[0m\u001b[0mname\u001b[0m\u001b[0;34m)\u001b[0m\u001b[0;34m:\u001b[0m\u001b[0;34m\u001b[0m\u001b[0;34m\u001b[0m\u001b[0m\n\u001b[1;32m   5135\u001b[0m                 \u001b[0;32mreturn\u001b[0m \u001b[0mself\u001b[0m\u001b[0;34m[\u001b[0m\u001b[0mname\u001b[0m\u001b[0;34m]\u001b[0m\u001b[0;34m\u001b[0m\u001b[0;34m\u001b[0m\u001b[0m\n\u001b[0;32m-> 5136\u001b[0;31m             \u001b[0;32mreturn\u001b[0m \u001b[0mobject\u001b[0m\u001b[0;34m.\u001b[0m\u001b[0m__getattribute__\u001b[0m\u001b[0;34m(\u001b[0m\u001b[0mself\u001b[0m\u001b[0;34m,\u001b[0m \u001b[0mname\u001b[0m\u001b[0;34m)\u001b[0m\u001b[0;34m\u001b[0m\u001b[0;34m\u001b[0m\u001b[0m\n\u001b[0m\u001b[1;32m   5137\u001b[0m \u001b[0;34m\u001b[0m\u001b[0m\n\u001b[1;32m   5138\u001b[0m     \u001b[0;32mdef\u001b[0m \u001b[0m__setattr__\u001b[0m\u001b[0;34m(\u001b[0m\u001b[0mself\u001b[0m\u001b[0;34m,\u001b[0m \u001b[0mname\u001b[0m\u001b[0;34m:\u001b[0m \u001b[0mstr\u001b[0m\u001b[0;34m,\u001b[0m \u001b[0mvalue\u001b[0m\u001b[0;34m)\u001b[0m \u001b[0;34m->\u001b[0m \u001b[0;32mNone\u001b[0m\u001b[0;34m:\u001b[0m\u001b[0;34m\u001b[0m\u001b[0;34m\u001b[0m\u001b[0m\n",
      "\u001b[0;31mAttributeError\u001b[0m: 'DataFrame' object has no attribute 'adult'"
     ]
    }
   ],
   "source": [
    "# converting adult column dtype object to bool.\n",
    "# apply method applies a lambda function, which replace str to bool.\n",
    "movies.adult = movies.adult.apply(lambda x: False if x == 'False' else True)"
   ]
  },
  {
   "cell_type": "code",
   "execution_count": 125,
   "metadata": {
    "executionInfo": {
     "elapsed": 38390,
     "status": "ok",
     "timestamp": 1601154471530,
     "user": {
      "displayName": "Ans Jayan",
      "photoUrl": "",
      "userId": "11941340864978647565"
     },
     "user_tz": -330
    },
    "id": "3DxB5ktgJyaG"
   },
   "outputs": [],
   "source": [
    "# ['belongs_to_collection'] contains stringified dict. \n",
    "# ['genres', 'production_countries', 'production_companies', 'spoken_languages'] all contains stringified list of dict/json.\n",
    "json_col = ['belongs_to_collection', 'genres', 'production_countries', 'production_companies', 'spoken_languages', 'cast', 'crew']"
   ]
  },
  {
   "cell_type": "code",
   "execution_count": 126,
   "metadata": {
    "colab": {
     "base_uri": "https://localhost:8080/",
     "height": 0
    },
    "executionInfo": {
     "elapsed": 38314,
     "status": "ok",
     "timestamp": 1601154471534,
     "user": {
      "displayName": "Ans Jayan",
      "photoUrl": "",
      "userId": "11941340864978647565"
     },
     "user_tz": -330
    },
    "id": "S_HYm1CizAnC",
    "outputId": "b4d6f8cb-6979-41d5-b957-bef7b2b1b9c3"
   },
   "outputs": [
    {
     "data": {
      "application/vnd.google.colaboratory.intrinsic+json": {
       "type": "string"
      },
      "text/plain": [
       "\"{'id': 10194, 'name': 'Toy Story Collection', 'poster_path': '/7G9915LfUQ2lVfwMEEhDsn3kT4B.jpg', 'backdrop_path': '/9FBwqcd9IRruEDUrTdcaafOMKUq.jpg'}\""
      ]
     },
     "execution_count": 126,
     "metadata": {
      "tags": []
     },
     "output_type": "execute_result"
    }
   ],
   "source": [
    "# ['belongs_to_collection'] contains stringified dict.\n",
    "movies.belongs_to_collection[0]"
   ]
  },
  {
   "cell_type": "code",
   "execution_count": 127,
   "metadata": {
    "colab": {
     "base_uri": "https://localhost:8080/",
     "height": 0
    },
    "executionInfo": {
     "elapsed": 38283,
     "status": "ok",
     "timestamp": 1601154471538,
     "user": {
      "displayName": "Ans Jayan",
      "photoUrl": "",
      "userId": "11941340864978647565"
     },
     "user_tz": -330
    },
    "id": "RC5VH52dzAne",
    "outputId": "7866e00a-0459-46be-8354-610055d66ac9"
   },
   "outputs": [
    {
     "data": {
      "text/plain": [
       "{'backdrop_path': '/9FBwqcd9IRruEDUrTdcaafOMKUq.jpg',\n",
       " 'id': 10194,\n",
       " 'name': 'Toy Story Collection',\n",
       " 'poster_path': '/7G9915LfUQ2lVfwMEEhDsn3kT4B.jpg'}"
      ]
     },
     "execution_count": 127,
     "metadata": {
      "tags": []
     },
     "output_type": "execute_result"
    }
   ],
   "source": [
    "# converts stringified dict to dict\n",
    "ast.literal_eval(movies.belongs_to_collection[0])"
   ]
  },
  {
   "cell_type": "code",
   "execution_count": 128,
   "metadata": {
    "executionInfo": {
     "elapsed": 38273,
     "status": "ok",
     "timestamp": 1601154471543,
     "user": {
      "displayName": "Ans Jayan",
      "photoUrl": "",
      "userId": "11941340864978647565"
     },
     "user_tz": -330
    },
    "id": "bbYyHmt2JyaW"
   },
   "outputs": [],
   "source": [
    "# functions to convert columns from str to list/json/dict\n",
    "def convert_if_str(column):\n",
    "    movies[column] = movies[column].apply(lambda x: ast.literal_eval(x) if isinstance(x, str) else np.nan)"
   ]
  },
  {
   "cell_type": "code",
   "execution_count": 129,
   "metadata": {
    "executionInfo": {
     "elapsed": 73031,
     "status": "ok",
     "timestamp": 1601154506318,
     "user": {
      "displayName": "Ans Jayan",
      "photoUrl": "",
      "userId": "11941340864978647565"
     },
     "user_tz": -330
    },
    "id": "OUxwSl5DJyaj"
   },
   "outputs": [],
   "source": [
    "# Converting columns from str to list/json/dict\n",
    "for i in json_col:\n",
    "    convert_if_str(i)"
   ]
  },
  {
   "cell_type": "code",
   "execution_count": 130,
   "metadata": {
    "executionInfo": {
     "elapsed": 73061,
     "status": "ok",
     "timestamp": 1601154506363,
     "user": {
      "displayName": "Ans Jayan",
      "photoUrl": "",
      "userId": "11941340864978647565"
     },
     "user_tz": -330
    },
    "id": "VK98oap4Jyay",
    "scrolled": true
   },
   "outputs": [],
   "source": [
    "# creating new column for total number of cast\n",
    "movies[\"cast_size\"] = movies.cast.apply(lambda x: np.nan if isinstance(x, float) else len(x))\n",
    "movies[\"crew_size\"] = movies.crew.apply(lambda x: np.nan if isinstance(x, float) else len(x))\n",
    "# certain values are nan-float and others are list.\n",
    "# len don't work for nan, so nan retained as nan by checking isinstance.\n",
    "# len of list is calculated by len(x)."
   ]
  },
  {
   "cell_type": "code",
   "execution_count": 131,
   "metadata": {
    "colab": {
     "base_uri": "https://localhost:8080/",
     "height": 0
    },
    "executionInfo": {
     "elapsed": 73028,
     "status": "ok",
     "timestamp": 1601154506368,
     "user": {
      "displayName": "Ans Jayan",
      "photoUrl": "",
      "userId": "11941340864978647565"
     },
     "user_tz": -330
    },
    "id": "JTUxfX87zApY",
    "outputId": "1163cc1b-8c65-49c5-e4a5-eb0142663ce7"
   },
   "outputs": [
    {
     "data": {
      "application/vnd.google.colaboratory.intrinsic+json": {
       "type": "string"
      },
      "text/plain": [
       "'Toy Story Collection'"
      ]
     },
     "execution_count": 131,
     "metadata": {
      "tags": []
     },
     "output_type": "execute_result"
    }
   ],
   "source": [
    "movies.belongs_to_collection[0]['name']# if isinstance(x, dict) else np.nan)"
   ]
  },
  {
   "cell_type": "code",
   "execution_count": 132,
   "metadata": {
    "executionInfo": {
     "elapsed": 73020,
     "status": "ok",
     "timestamp": 1601154506376,
     "user": {
      "displayName": "Ans Jayan",
      "photoUrl": "",
      "userId": "11941340864978647565"
     },
     "user_tz": -330
    },
    "id": "jFJPm48IJya_"
   },
   "outputs": [],
   "source": [
    "# functions to extracting required values from columns.\n",
    "def extract_if_dict(column, value):\n",
    "    movies[column] = movies[column].apply(lambda x: x[value] if isinstance(x, dict) else np.nan)\n",
    "    movies[column].replace(\"\", np.nan, inplace = True)    \n",
    "\n",
    "def extract_if_list_dict(column, value):\n",
    "    movies[column] = movies[column].apply(lambda x: \"|\".join(i[value] for i in x) if isinstance(x, list) else np.nan)\n",
    "    movies[column].replace(\"\", np.nan, inplace = True)    "
   ]
  },
  {
   "cell_type": "code",
   "execution_count": 133,
   "metadata": {
    "executionInfo": {
     "elapsed": 73014,
     "status": "ok",
     "timestamp": 1601154506386,
     "user": {
      "displayName": "Ans Jayan",
      "photoUrl": "",
      "userId": "11941340864978647565"
     },
     "user_tz": -330
    },
    "id": "2mElklIxJybM"
   },
   "outputs": [],
   "source": [
    "# Extracting required values form columns\n",
    "# ['genres', 'production_countries', 'production_companies', 'spoken_languages'] all contains list of dict/json.\n",
    "for i in json_col[1:-1]:\n",
    "    extract_if_list_dict(i, \"name\")\n",
    "    \n",
    "# ['belongs_to_collection'] belong to dict.     \n",
    "for i in json_col[0:1]:\n",
    "    extract_if_dict(i, \"name\")"
   ]
  },
  {
   "cell_type": "code",
   "execution_count": 134,
   "metadata": {
    "executionInfo": {
     "elapsed": 73003,
     "status": "ok",
     "timestamp": 1601154506390,
     "user": {
      "displayName": "Ans Jayan",
      "photoUrl": "",
      "userId": "11941340864978647565"
     },
     "user_tz": -330
    },
    "id": "wVSsC6DSJybu"
   },
   "outputs": [],
   "source": [
    "# function to extract director\n",
    "def director(x):\n",
    "    if isinstance(x, float):\n",
    "        return np.nan\n",
    "    else:\n",
    "        for i in x:\n",
    "            if i['job'] == 'Director':\n",
    "                return i['name']\n",
    "#               else: return np.nan # will change for subsequent jobs to np.nan , makes error\n",
    "        return np.nan\n",
    "\n",
    "# function to extract screenplay\n",
    "def screenplay(x):\n",
    "    if isinstance(x, float):\n",
    "        return np.nan\n",
    "    else:\n",
    "        for i in x:\n",
    "            if i['job'] == 'Screenplay':\n",
    "                return i['name']\n",
    "#               else: return np.nan # will change for subsequent jobs to np.nan , makes error\n",
    "        return np.nan\n"
   ]
  },
  {
   "cell_type": "code",
   "execution_count": 135,
   "metadata": {
    "executionInfo": {
     "elapsed": 72995,
     "status": "ok",
     "timestamp": 1601154506397,
     "user": {
      "displayName": "Ans Jayan",
      "photoUrl": "",
      "userId": "11941340864978647565"
     },
     "user_tz": -330
    },
    "id": "A4C3nCNGJyb6",
    "scrolled": true
   },
   "outputs": [],
   "source": [
    "# creating new director, screenplay columns\n",
    "movies['director'] = movies.crew.apply(director)\n",
    "movies['screenplay'] = movies.crew.apply(screenplay)"
   ]
  },
  {
   "cell_type": "code",
   "execution_count": 136,
   "metadata": {
    "executionInfo": {
     "elapsed": 72978,
     "status": "ok",
     "timestamp": 1601154506402,
     "user": {
      "displayName": "Ans Jayan",
      "photoUrl": "",
      "userId": "11941340864978647565"
     },
     "user_tz": -330
    },
    "id": "_ETiTR2RJycY"
   },
   "outputs": [],
   "source": [
    "# ['budget', 'revenue', 'runtime', 'popularity', 'vote_count', 'vote_average'] convert to numeric type from object.\n",
    "numeric_cols = ['budget', 'revenue', 'runtime', 'popularity', 'vote_count', 'vote_average']\n",
    "# function to convert object columns to numeric types\n",
    "def convert_to_numeric(column):\n",
    "    movies[column] = pd.to_numeric(movies[column], errors = 'coerce')\n",
    "    movies[column] = movies[column].replace(0, np.nan)\n",
    "# converting object columns to numeric types\n",
    "for i in numeric_cols:\n",
    "    convert_to_numeric(i)    "
   ]
  },
  {
   "cell_type": "code",
   "execution_count": 137,
   "metadata": {
    "executionInfo": {
     "elapsed": 72967,
     "status": "ok",
     "timestamp": 1601154506406,
     "user": {
      "displayName": "Ans Jayan",
      "photoUrl": "",
      "userId": "11941340864978647565"
     },
     "user_tz": -330
    },
    "id": "DW5mY5DGJyc_"
   },
   "outputs": [],
   "source": [
    "# Budget and revenue in millions USD\n",
    "movies.budget = movies.budget.div(1000000)\n",
    "movies.revenue = movies.revenue.div(1000000)\n",
    "# Adding profit and returns columns, both are in million USD\n",
    "movies['profit'] = movies.revenue.sub(movies.budget)\n",
    "movies['returns'] = movies.revenue.div(movies.budget)"
   ]
  },
  {
   "cell_type": "code",
   "execution_count": 138,
   "metadata": {
    "executionInfo": {
     "elapsed": 72963,
     "status": "ok",
     "timestamp": 1601154506417,
     "user": {
      "displayName": "Ans Jayan",
      "photoUrl": "",
      "userId": "11941340864978647565"
     },
     "user_tz": -330
    },
    "id": "jAcF7P1nJydO",
    "scrolled": true
   },
   "outputs": [],
   "source": [
    "# Release_date in datetime format\n",
    "movies.release_date = pd.to_datetime(movies.release_date, errors='coerce')"
   ]
  },
  {
   "cell_type": "code",
   "execution_count": 139,
   "metadata": {
    "colab": {
     "base_uri": "https://localhost:8080/",
     "height": 0
    },
    "executionInfo": {
     "elapsed": 72927,
     "status": "ok",
     "timestamp": 1601154506421,
     "user": {
      "displayName": "Ans Jayan",
      "photoUrl": "",
      "userId": "11941340864978647565"
     },
     "user_tz": -330
    },
    "id": "WP2UnlR_Jyda",
    "outputId": "720b8399-93c2-41f8-aa34-fd0e26f6a455"
   },
   "outputs": [
    {
     "data": {
      "text/plain": [
       "en    31935\n",
       "fr     2416\n",
       "it     1511\n",
       "ja     1339\n",
       "de     1073\n",
       "Name: original_language, dtype: int64"
      ]
     },
     "execution_count": 139,
     "metadata": {
      "tags": []
     },
     "output_type": "execute_result"
    }
   ],
   "source": [
    "# movies.original_language, no cleaning required\n",
    "movies.original_language.value_counts(dropna = False).head()"
   ]
  },
  {
   "cell_type": "code",
   "execution_count": 140,
   "metadata": {
    "executionInfo": {
     "elapsed": 72913,
     "status": "ok",
     "timestamp": 1601154506428,
     "user": {
      "displayName": "Ans Jayan",
      "photoUrl": "",
      "userId": "11941340864978647565"
     },
     "user_tz": -330
    },
    "id": "umD3JnrgJydn"
   },
   "outputs": [],
   "source": [
    "# overview column requires cleaning to remove No review rows\n",
    "# movies.overview.value_counts(dropna=False)\n",
    "movies.overview.replace([\"No overview found.\", \"No Overview\", \"No movie overview available.\", \"-\", \"\", \"No overview yet.\", \" \"], np.nan, inplace = True)"
   ]
  },
  {
   "cell_type": "code",
   "execution_count": 141,
   "metadata": {
    "executionInfo": {
     "elapsed": 72904,
     "status": "ok",
     "timestamp": 1601154506433,
     "user": {
      "displayName": "Ans Jayan",
      "photoUrl": "",
      "userId": "11941340864978647565"
     },
     "user_tz": -330
    },
    "id": "KFa0MNSCJydz"
   },
   "outputs": [],
   "source": [
    "# tagline column has some space, - which must be removed\n",
    "# movies.tagline.value_counts(dropna=False)\n",
    "movies.tagline.replace([\"\", \" \", \"-\"], np.nan, inplace = True)"
   ]
  },
  {
   "cell_type": "code",
   "execution_count": 142,
   "metadata": {
    "colab": {
     "base_uri": "https://localhost:8080/",
     "height": 0
    },
    "executionInfo": {
     "elapsed": 78220,
     "status": "ok",
     "timestamp": 1601154511780,
     "user": {
      "displayName": "Ans Jayan",
      "photoUrl": "",
      "userId": "11941340864978647565"
     },
     "user_tz": -330
    },
    "id": "LLq1sSfyq81E",
    "outputId": "e407546f-ada3-46da-ea65-094a48ae46cd"
   },
   "outputs": [
    {
     "name": "stdout",
     "output_type": "stream",
     "text": [
      "[jovian] Detected Colab notebook...\u001b[0m\n",
      "[jovian] Uploading colab notebook to Jovian...\u001b[0m\n",
      "[jovian] Committed successfully! https://jovian.ml/ansjayan/my-project\u001b[0m\n"
     ]
    },
    {
     "data": {
      "application/vnd.google.colaboratory.intrinsic+json": {
       "type": "string"
      },
      "text/plain": [
       "'https://jovian.ml/ansjayan/my-project'"
      ]
     },
     "execution_count": 142,
     "metadata": {
      "tags": []
     },
     "output_type": "execute_result"
    }
   ],
   "source": [
    "jovian.commit(project='my-project', environment=None)"
   ]
  },
  {
   "cell_type": "markdown",
   "metadata": {
    "id": "iVrX8WuCJyea"
   },
   "source": [
    "## Dropping na"
   ]
  },
  {
   "cell_type": "code",
   "execution_count": 143,
   "metadata": {
    "executionInfo": {
     "elapsed": 78215,
     "status": "ok",
     "timestamp": 1601154511792,
     "user": {
      "displayName": "Ans Jayan",
      "photoUrl": "",
      "userId": "11941340864978647565"
     },
     "user_tz": -330
    },
    "id": "5o0rpFTsJyec",
    "scrolled": true
   },
   "outputs": [],
   "source": [
    "# checking notna in rows\n",
    "# movies.notna().sum(axis=1).value_counts().sort_index(ascending = False)"
   ]
  },
  {
   "cell_type": "code",
   "execution_count": 144,
   "metadata": {
    "executionInfo": {
     "elapsed": 78204,
     "status": "ok",
     "timestamp": 1601154511795,
     "user": {
      "displayName": "Ans Jayan",
      "photoUrl": "",
      "userId": "11941340864978647565"
     },
     "user_tz": -330
    },
    "id": "l1XI53FKJyeo"
   },
   "outputs": [],
   "source": [
    "# approx 30 columns\n",
    "# na 10 or above is removed\n",
    "# keep rows with atleast 9 nonna values\n",
    "movies.dropna(thresh = 9, inplace = True) "
   ]
  },
  {
   "cell_type": "code",
   "execution_count": 145,
   "metadata": {
    "executionInfo": {
     "elapsed": 78194,
     "status": "ok",
     "timestamp": 1601154511800,
     "user": {
      "displayName": "Ans Jayan",
      "photoUrl": "",
      "userId": "11941340864978647565"
     },
     "user_tz": -330
    },
    "id": "HoB6pRvczAv_"
   },
   "outputs": [],
   "source": [
    "col = ['budget', 'revenue', 'vote_count', 'vote_average', 'popularity', 'runtime', 'cast_size', 'crew_size', 'profit', 'returns']\n",
    "# rounding float values to decimal places\n",
    "for value in col:\n",
    "    movies[col] = movies[col].apply(lambda x:round(x, ndigits=2))\n",
    "    movies[col] = movies[col].replace(0, np.nan)"
   ]
  },
  {
   "cell_type": "code",
   "execution_count": 146,
   "metadata": {
    "colab": {
     "base_uri": "https://localhost:8080/",
     "height": 0
    },
    "executionInfo": {
     "elapsed": 78160,
     "status": "ok",
     "timestamp": 1601154511806,
     "user": {
      "displayName": "Ans Jayan",
      "photoUrl": "",
      "userId": "11941340864978647565"
     },
     "user_tz": -330
    },
    "id": "0uB0SDybq67y",
    "outputId": "57bffe08-da7d-4f5e-b9ee-f23894932a09"
   },
   "outputs": [
    {
     "name": "stdout",
     "output_type": "stream",
     "text": [
      "[jovian] Detected Colab notebook...\u001b[0m\n",
      "[jovian] Uploading colab notebook to Jovian...\u001b[0m\n",
      "[jovian] Committed successfully! https://jovian.ml/ansjayan/my-project\u001b[0m\n"
     ]
    },
    {
     "data": {
      "application/vnd.google.colaboratory.intrinsic+json": {
       "type": "string"
      },
      "text/plain": [
       "'https://jovian.ml/ansjayan/my-project'"
      ]
     },
     "execution_count": 146,
     "metadata": {
      "tags": []
     },
     "output_type": "execute_result"
    }
   ],
   "source": [
    "jovian.commit(project='my-project', environment=None)"
   ]
  },
  {
   "cell_type": "markdown",
   "metadata": {
    "id": "vnohMeFIJye4"
   },
   "source": [
    "## Dropping some columns unnecessary for this project"
   ]
  },
  {
   "cell_type": "code",
   "execution_count": 147,
   "metadata": {
    "executionInfo": {
     "elapsed": 78147,
     "status": "ok",
     "timestamp": 1601154511810,
     "user": {
      "displayName": "Ans Jayan",
      "photoUrl": "",
      "userId": "11941340864978647565"
     },
     "user_tz": -330
    },
    "id": "_11QxGeQJye7"
   },
   "outputs": [],
   "source": [
    "# dropping columns\n",
    "movies.drop(columns = ['adult', 'homepage', 'imdb_id', 'original_title', 'poster_path', 'status', 'video', 'crew'], inplace = True)\n",
    "# adult = adult content or not\n",
    "# homepage = homepage details, most of them are missing nan\n",
    "# imdb_id = imdb id is not required as tmdb id column is there\n",
    "# original title = not required as english title is there\n",
    "# poster_path = gives url paths for poster\n",
    "# status = only released is selected in the begining.\n",
    "# video = trailer is there or not\n",
    "# crew = extracted director and screenplay from it."
   ]
  },
  {
   "cell_type": "code",
   "execution_count": 148,
   "metadata": {
    "executionInfo": {
     "elapsed": 78149,
     "status": "ok",
     "timestamp": 1601154511834,
     "user": {
      "displayName": "Ans Jayan",
      "photoUrl": "",
      "userId": "11941340864978647565"
     },
     "user_tz": -330
    },
    "id": "qvqaaJdpJyfG"
   },
   "outputs": [],
   "source": [
    "# list to rearrange columns in movies\n",
    "col = [\"id\", \"title\", \"director\", \"screenplay\", \"tagline\", \"release_date\", \"genres\", \"belongs_to_collection\", \n",
    "       \"original_language\", \"budget\", \"revenue\", \"production_companies\",\n",
    "       \"production_countries\", \"vote_count\", \"vote_average\", \"popularity\", \"runtime\",\n",
    "       \"overview\", \"spoken_languages\", 'cast', 'cast_size', 'crew_size', 'profit', 'returns']"
   ]
  },
  {
   "cell_type": "code",
   "execution_count": 149,
   "metadata": {
    "executionInfo": {
     "elapsed": 78142,
     "status": "ok",
     "timestamp": 1601154511849,
     "user": {
      "displayName": "Ans Jayan",
      "photoUrl": "",
      "userId": "11941340864978647565"
     },
     "user_tz": -330
    },
    "id": "7x5zDVO9JyfZ"
   },
   "outputs": [],
   "source": [
    "# rearrangin columns as in col list\n",
    "movies = movies.loc[:, col]"
   ]
  },
  {
   "cell_type": "code",
   "execution_count": 150,
   "metadata": {
    "executionInfo": {
     "elapsed": 78131,
     "status": "ok",
     "timestamp": 1601154511854,
     "user": {
      "displayName": "Ans Jayan",
      "photoUrl": "",
      "userId": "11941340864978647565"
     },
     "user_tz": -330
    },
    "id": "9I7wbXLvJyf0"
   },
   "outputs": [],
   "source": [
    "# resetting and droping index\n",
    "movies.reset_index(drop = True, inplace = True)"
   ]
  },
  {
   "cell_type": "code",
   "execution_count": 151,
   "metadata": {
    "executionInfo": {
     "elapsed": 80221,
     "status": "ok",
     "timestamp": 1601154513960,
     "user": {
      "displayName": "Ans Jayan",
      "photoUrl": "",
      "userId": "11941340864978647565"
     },
     "user_tz": -330
    },
    "id": "LFF_PchsJygB"
   },
   "outputs": [],
   "source": [
    "# write to movies_final csv\n",
    "movies.to_csv(\"movies_final.csv\", index = False)"
   ]
  },
  {
   "cell_type": "code",
   "execution_count": 152,
   "metadata": {
    "colab": {
     "base_uri": "https://localhost:8080/",
     "height": 0
    },
    "executionInfo": {
     "elapsed": 80748,
     "status": "ok",
     "timestamp": 1601154514523,
     "user": {
      "displayName": "Ans Jayan",
      "photoUrl": "",
      "userId": "11941340864978647565"
     },
     "user_tz": -330
    },
    "id": "Fw8cRUFErSQF",
    "outputId": "6ba9defd-0f28-460d-b4d3-d93db910aecc"
   },
   "outputs": [
    {
     "name": "stdout",
     "output_type": "stream",
     "text": [
      "[jovian] Detected Colab notebook...\u001b[0m\n",
      "[jovian] Uploading colab notebook to Jovian...\u001b[0m\n",
      "[jovian] Committed successfully! https://jovian.ml/ansjayan/my-project\u001b[0m\n"
     ]
    },
    {
     "data": {
      "application/vnd.google.colaboratory.intrinsic+json": {
       "type": "string"
      },
      "text/plain": [
       "'https://jovian.ml/ansjayan/my-project'"
      ]
     },
     "execution_count": 152,
     "metadata": {
      "tags": []
     },
     "output_type": "execute_result"
    }
   ],
   "source": [
    "# commit to jovian.ml\n",
    "jovian.commit(project='my-project', environment=None)"
   ]
  },
  {
   "cell_type": "markdown",
   "metadata": {
    "id": "2YFzVt5GJygK"
   },
   "source": [
    "# The Movies Dataset\n",
    "#### \"movies_final.csv\"\n",
    "* __*id:*__ The ID of the movie, TMDB.\n",
    "* **_title:_** The Official Title of the movie.\n",
    "* **_director:_** The Director of the movie.\n",
    "* **_screenplay:_** Screenplay writer of the movie.\n",
    "* **_tagline:_** The tagline of the movie.\n",
    "* **_release_date:_** The Theatrical Release Date of the movie.\n",
    "* **_genres:_** The Genres associated with the movie.\n",
    "* **_belongs_to_collection:_** Information on the movie series, the particular film belongs to.\n",
    "* **_original_language:_** The language in which the movie was originally shot in.\n",
    "* **_budget:_** The budget of the movie in million dollars.\n",
    "* **_revenue:_** The total revenue of the movie in million dollars.\n",
    "* **_production_companies:_** The Production companies involved in the making of the movie.\n",
    "* **_production_countries:_** The Countries where the movie was shot in.\n",
    "* **_vote_count:_** The number of votes by users, as counted by TMDB.\n",
    "* **_vote_average:_** The average rating of the movie.\n",
    "* **_popularity:_** The Popularity Score assigned by TMDB.\n",
    "* **_runtime:_** The runtime of the movie in minutes.\n",
    "* **_spoken_languages:_** The Spoken languages in the film.\n",
    "* **_cast:_** The Actors appearing in the movie.\n",
    "* **_cast_size:_** The number of Actors appearing in the movie.\n",
    "* **_crew_size:_** The Size of the film crew, excluding actors.\n",
    "* **_profit:_** The profit im millions usd for each movie.\n",
    "* **_returns:_** The returns im millions usd for each movie."
   ]
  },
  {
   "cell_type": "markdown",
   "metadata": {
    "id": "piSPljDrJygM"
   },
   "source": [
    "# Exploratory data analysis"
   ]
  },
  {
   "cell_type": "code",
   "execution_count": 153,
   "metadata": {
    "executionInfo": {
     "elapsed": 81190,
     "status": "ok",
     "timestamp": 1601154514987,
     "user": {
      "displayName": "Ans Jayan",
      "photoUrl": "",
      "userId": "11941340864978647565"
     },
     "user_tz": -330
    },
    "id": "1z2bgp4HJygO"
   },
   "outputs": [],
   "source": [
    "# reading movies_final csv to movies dataframe\n",
    "movies = pd.read_csv(\"movies_final.csv\", parse_dates=['release_date'])"
   ]
  },
  {
   "cell_type": "code",
   "execution_count": 154,
   "metadata": {
    "colab": {
     "base_uri": "https://localhost:8080/",
     "height": 666
    },
    "executionInfo": {
     "elapsed": 81162,
     "status": "ok",
     "timestamp": 1601154514992,
     "user": {
      "displayName": "Ans Jayan",
      "photoUrl": "",
      "userId": "11941340864978647565"
     },
     "user_tz": -330
    },
    "id": "7ySZ4yqoJyga",
    "outputId": "fa29f664-3f8b-44bd-d361-908a97ea05d9",
    "scrolled": true
   },
   "outputs": [
    {
     "data": {
      "text/html": [
       "<div>\n",
       "<style scoped>\n",
       "    .dataframe tbody tr th:only-of-type {\n",
       "        vertical-align: middle;\n",
       "    }\n",
       "\n",
       "    .dataframe tbody tr th {\n",
       "        vertical-align: top;\n",
       "    }\n",
       "\n",
       "    .dataframe thead th {\n",
       "        text-align: right;\n",
       "    }\n",
       "</style>\n",
       "<table border=\"1\" class=\"dataframe\">\n",
       "  <thead>\n",
       "    <tr style=\"text-align: right;\">\n",
       "      <th></th>\n",
       "      <th>id</th>\n",
       "      <th>title</th>\n",
       "      <th>director</th>\n",
       "      <th>screenplay</th>\n",
       "      <th>tagline</th>\n",
       "      <th>release_date</th>\n",
       "      <th>genres</th>\n",
       "      <th>belongs_to_collection</th>\n",
       "      <th>original_language</th>\n",
       "      <th>budget</th>\n",
       "      <th>revenue</th>\n",
       "      <th>production_companies</th>\n",
       "      <th>production_countries</th>\n",
       "      <th>vote_count</th>\n",
       "      <th>vote_average</th>\n",
       "      <th>popularity</th>\n",
       "      <th>runtime</th>\n",
       "      <th>overview</th>\n",
       "      <th>spoken_languages</th>\n",
       "      <th>cast</th>\n",
       "      <th>cast_size</th>\n",
       "      <th>crew_size</th>\n",
       "      <th>profit</th>\n",
       "      <th>returns</th>\n",
       "    </tr>\n",
       "  </thead>\n",
       "  <tbody>\n",
       "    <tr>\n",
       "      <th>0</th>\n",
       "      <td>862.0</td>\n",
       "      <td>Toy Story</td>\n",
       "      <td>John Lasseter</td>\n",
       "      <td>Joss Whedon</td>\n",
       "      <td>NaN</td>\n",
       "      <td>1995-10-30</td>\n",
       "      <td>Animation|Comedy|Family</td>\n",
       "      <td>Toy Story Collection</td>\n",
       "      <td>en</td>\n",
       "      <td>30.0</td>\n",
       "      <td>373.55</td>\n",
       "      <td>Pixar Animation Studios</td>\n",
       "      <td>United States of America</td>\n",
       "      <td>5415.0</td>\n",
       "      <td>7.7</td>\n",
       "      <td>21.95</td>\n",
       "      <td>81.0</td>\n",
       "      <td>Led by Woody, Andy's toys live happily in his ...</td>\n",
       "      <td>English</td>\n",
       "      <td>Tom Hanks|Tim Allen|Don Rickles|Jim Varney|Wal...</td>\n",
       "      <td>13.0</td>\n",
       "      <td>106.0</td>\n",
       "      <td>343.55</td>\n",
       "      <td>12.45</td>\n",
       "    </tr>\n",
       "    <tr>\n",
       "      <th>1</th>\n",
       "      <td>8844.0</td>\n",
       "      <td>Jumanji</td>\n",
       "      <td>Joe Johnston</td>\n",
       "      <td>Jonathan Hensleigh</td>\n",
       "      <td>Roll the dice and unleash the excitement!</td>\n",
       "      <td>1995-12-15</td>\n",
       "      <td>Adventure|Fantasy|Family</td>\n",
       "      <td>NaN</td>\n",
       "      <td>en</td>\n",
       "      <td>65.0</td>\n",
       "      <td>262.80</td>\n",
       "      <td>TriStar Pictures|Teitler Film|Interscope Commu...</td>\n",
       "      <td>United States of America</td>\n",
       "      <td>2413.0</td>\n",
       "      <td>6.9</td>\n",
       "      <td>17.02</td>\n",
       "      <td>104.0</td>\n",
       "      <td>When siblings Judy and Peter discover an encha...</td>\n",
       "      <td>English|Français</td>\n",
       "      <td>Robin Williams|Jonathan Hyde|Kirsten Dunst|Bra...</td>\n",
       "      <td>26.0</td>\n",
       "      <td>16.0</td>\n",
       "      <td>197.80</td>\n",
       "      <td>4.04</td>\n",
       "    </tr>\n",
       "    <tr>\n",
       "      <th>2</th>\n",
       "      <td>15602.0</td>\n",
       "      <td>Grumpier Old Men</td>\n",
       "      <td>Howard Deutch</td>\n",
       "      <td>NaN</td>\n",
       "      <td>Still Yelling. Still Fighting. Still Ready for...</td>\n",
       "      <td>1995-12-22</td>\n",
       "      <td>Romance|Comedy</td>\n",
       "      <td>Grumpy Old Men Collection</td>\n",
       "      <td>en</td>\n",
       "      <td>NaN</td>\n",
       "      <td>NaN</td>\n",
       "      <td>Warner Bros.|Lancaster Gate</td>\n",
       "      <td>United States of America</td>\n",
       "      <td>92.0</td>\n",
       "      <td>6.5</td>\n",
       "      <td>11.71</td>\n",
       "      <td>101.0</td>\n",
       "      <td>A family wedding reignites the ancient feud be...</td>\n",
       "      <td>English</td>\n",
       "      <td>Walter Matthau|Jack Lemmon|Ann-Margret|Sophia ...</td>\n",
       "      <td>7.0</td>\n",
       "      <td>4.0</td>\n",
       "      <td>NaN</td>\n",
       "      <td>NaN</td>\n",
       "    </tr>\n",
       "    <tr>\n",
       "      <th>3</th>\n",
       "      <td>31357.0</td>\n",
       "      <td>Waiting to Exhale</td>\n",
       "      <td>Forest Whitaker</td>\n",
       "      <td>Ronald Bass</td>\n",
       "      <td>Friends are the people who let you be yourself...</td>\n",
       "      <td>1995-12-22</td>\n",
       "      <td>Comedy|Drama|Romance</td>\n",
       "      <td>NaN</td>\n",
       "      <td>en</td>\n",
       "      <td>16.0</td>\n",
       "      <td>81.45</td>\n",
       "      <td>Twentieth Century Fox Film Corporation</td>\n",
       "      <td>United States of America</td>\n",
       "      <td>34.0</td>\n",
       "      <td>6.1</td>\n",
       "      <td>3.86</td>\n",
       "      <td>127.0</td>\n",
       "      <td>Cheated on, mistreated and stepped on, the wom...</td>\n",
       "      <td>English</td>\n",
       "      <td>Whitney Houston|Angela Bassett|Loretta Devine|...</td>\n",
       "      <td>10.0</td>\n",
       "      <td>10.0</td>\n",
       "      <td>65.45</td>\n",
       "      <td>5.09</td>\n",
       "    </tr>\n",
       "    <tr>\n",
       "      <th>4</th>\n",
       "      <td>11862.0</td>\n",
       "      <td>Father of the Bride Part II</td>\n",
       "      <td>Charles Shyer</td>\n",
       "      <td>Nancy Meyers</td>\n",
       "      <td>Just When His World Is Back To Normal... He's ...</td>\n",
       "      <td>1995-02-10</td>\n",
       "      <td>Comedy</td>\n",
       "      <td>Father of the Bride Collection</td>\n",
       "      <td>en</td>\n",
       "      <td>NaN</td>\n",
       "      <td>76.58</td>\n",
       "      <td>Sandollar Productions|Touchstone Pictures</td>\n",
       "      <td>United States of America</td>\n",
       "      <td>173.0</td>\n",
       "      <td>5.7</td>\n",
       "      <td>8.39</td>\n",
       "      <td>106.0</td>\n",
       "      <td>Just when George Banks has recovered from his ...</td>\n",
       "      <td>English</td>\n",
       "      <td>Steve Martin|Diane Keaton|Martin Short|Kimberl...</td>\n",
       "      <td>12.0</td>\n",
       "      <td>7.0</td>\n",
       "      <td>NaN</td>\n",
       "      <td>NaN</td>\n",
       "    </tr>\n",
       "  </tbody>\n",
       "</table>\n",
       "</div>"
      ],
      "text/plain": [
       "        id                        title  ...  profit returns\n",
       "0    862.0                    Toy Story  ...  343.55   12.45\n",
       "1   8844.0                      Jumanji  ...  197.80    4.04\n",
       "2  15602.0             Grumpier Old Men  ...     NaN     NaN\n",
       "3  31357.0            Waiting to Exhale  ...   65.45    5.09\n",
       "4  11862.0  Father of the Bride Part II  ...     NaN     NaN\n",
       "\n",
       "[5 rows x 24 columns]"
      ]
     },
     "execution_count": 154,
     "metadata": {
      "tags": []
     },
     "output_type": "execute_result"
    }
   ],
   "source": [
    "# first 5 rows\n",
    "movies.head()"
   ]
  },
  {
   "cell_type": "code",
   "execution_count": 155,
   "metadata": {
    "colab": {
     "base_uri": "https://localhost:8080/",
     "height": 544
    },
    "executionInfo": {
     "elapsed": 81609,
     "status": "ok",
     "timestamp": 1601154515512,
     "user": {
      "displayName": "Ans Jayan",
      "photoUrl": "",
      "userId": "11941340864978647565"
     },
     "user_tz": -330
    },
    "id": "dcyqPLhPJygq",
    "outputId": "c9eb7d67-bdac-45b6-9471-2746bb2e7d32"
   },
   "outputs": [
    {
     "name": "stdout",
     "output_type": "stream",
     "text": [
      "<class 'pandas.core.frame.DataFrame'>\n",
      "RangeIndex: 44985 entries, 0 to 44984\n",
      "Data columns (total 24 columns):\n",
      " #   Column                 Non-Null Count  Dtype         \n",
      "---  ------                 --------------  -----         \n",
      " 0   id                     44985 non-null  float64       \n",
      " 1   title                  44985 non-null  object        \n",
      " 2   director               44125 non-null  object        \n",
      " 3   screenplay             15635 non-null  object        \n",
      " 4   tagline                20285 non-null  object        \n",
      " 5   release_date           44907 non-null  datetime64[ns]\n",
      " 6   genres                 42601 non-null  object        \n",
      " 7   belongs_to_collection  4463 non-null   object        \n",
      " 8   original_language      44975 non-null  object        \n",
      " 9   budget                 8576 non-null   float64       \n",
      " 10  revenue                7198 non-null   float64       \n",
      " 11  production_companies   33357 non-null  object        \n",
      " 12  production_countries   38839 non-null  object        \n",
      " 13  vote_count             42145 non-null  float64       \n",
      " 14  vote_average           42056 non-null  float64       \n",
      " 15  popularity             43537 non-null  float64       \n",
      " 16  runtime                43238 non-null  float64       \n",
      " 17  overview               43919 non-null  object        \n",
      " 18  spoken_languages       41110 non-null  object        \n",
      " 19  cast                   42625 non-null  object        \n",
      " 20  cast_size              42625 non-null  float64       \n",
      " 21  crew_size              44239 non-null  float64       \n",
      " 22  profit                 5309 non-null   float64       \n",
      " 23  returns                5309 non-null   float64       \n",
      "dtypes: datetime64[ns](1), float64(11), object(12)\n",
      "memory usage: 8.2+ MB\n"
     ]
    }
   ],
   "source": [
    "# summary info of movies\n",
    "movies.info()"
   ]
  },
  {
   "cell_type": "code",
   "execution_count": 156,
   "metadata": {
    "colab": {
     "base_uri": "https://localhost:8080/",
     "height": 317
    },
    "executionInfo": {
     "elapsed": 81543,
     "status": "ok",
     "timestamp": 1601154515516,
     "user": {
      "displayName": "Ans Jayan",
      "photoUrl": "",
      "userId": "11941340864978647565"
     },
     "user_tz": -330
    },
    "id": "pcPNtnvRJyhI",
    "outputId": "59eed6e1-21ed-4beb-dff3-902577d3c9fd",
    "scrolled": true
   },
   "outputs": [
    {
     "data": {
      "text/html": [
       "<div>\n",
       "<style scoped>\n",
       "    .dataframe tbody tr th:only-of-type {\n",
       "        vertical-align: middle;\n",
       "    }\n",
       "\n",
       "    .dataframe tbody tr th {\n",
       "        vertical-align: top;\n",
       "    }\n",
       "\n",
       "    .dataframe thead th {\n",
       "        text-align: right;\n",
       "    }\n",
       "</style>\n",
       "<table border=\"1\" class=\"dataframe\">\n",
       "  <thead>\n",
       "    <tr style=\"text-align: right;\">\n",
       "      <th></th>\n",
       "      <th>id</th>\n",
       "      <th>budget</th>\n",
       "      <th>revenue</th>\n",
       "      <th>vote_count</th>\n",
       "      <th>vote_average</th>\n",
       "      <th>popularity</th>\n",
       "      <th>runtime</th>\n",
       "      <th>cast_size</th>\n",
       "      <th>crew_size</th>\n",
       "      <th>profit</th>\n",
       "      <th>returns</th>\n",
       "    </tr>\n",
       "  </thead>\n",
       "  <tbody>\n",
       "    <tr>\n",
       "      <th>count</th>\n",
       "      <td>44985.000000</td>\n",
       "      <td>8576.000000</td>\n",
       "      <td>7198.000000</td>\n",
       "      <td>42145.000000</td>\n",
       "      <td>42056.000000</td>\n",
       "      <td>43537.000000</td>\n",
       "      <td>43238.000000</td>\n",
       "      <td>42625.000000</td>\n",
       "      <td>44239.000000</td>\n",
       "      <td>5309.000000</td>\n",
       "      <td>5.309000e+03</td>\n",
       "    </tr>\n",
       "    <tr>\n",
       "      <th>mean</th>\n",
       "      <td>108100.065689</td>\n",
       "      <td>22.372351</td>\n",
       "      <td>70.760376</td>\n",
       "      <td>118.403156</td>\n",
       "      <td>6.015536</td>\n",
       "      <td>3.036468</td>\n",
       "      <td>97.530482</td>\n",
       "      <td>13.101490</td>\n",
       "      <td>10.426931</td>\n",
       "      <td>60.019260</td>\n",
       "      <td>5.641379e+03</td>\n",
       "    </tr>\n",
       "    <tr>\n",
       "      <th>std</th>\n",
       "      <td>112318.916473</td>\n",
       "      <td>34.686531</td>\n",
       "      <td>148.073865</td>\n",
       "      <td>509.280169</td>\n",
       "      <td>1.253116</td>\n",
       "      <td>6.099811</td>\n",
       "      <td>34.709439</td>\n",
       "      <td>12.080651</td>\n",
       "      <td>15.934561</td>\n",
       "      <td>140.308394</td>\n",
       "      <td>2.183215e+05</td>\n",
       "    </tr>\n",
       "    <tr>\n",
       "      <th>min</th>\n",
       "      <td>2.000000</td>\n",
       "      <td>0.010000</td>\n",
       "      <td>0.010000</td>\n",
       "      <td>1.000000</td>\n",
       "      <td>0.500000</td>\n",
       "      <td>0.010000</td>\n",
       "      <td>1.000000</td>\n",
       "      <td>1.000000</td>\n",
       "      <td>1.000000</td>\n",
       "      <td>-165.710000</td>\n",
       "      <td>1.000000e-02</td>\n",
       "    </tr>\n",
       "    <tr>\n",
       "      <th>25%</th>\n",
       "      <td>26225.000000</td>\n",
       "      <td>2.300000</td>\n",
       "      <td>3.030000</td>\n",
       "      <td>4.000000</td>\n",
       "      <td>5.300000</td>\n",
       "      <td>0.450000</td>\n",
       "      <td>86.000000</td>\n",
       "      <td>6.000000</td>\n",
       "      <td>2.000000</td>\n",
       "      <td>-1.630000</td>\n",
       "      <td>8.300000e-01</td>\n",
       "    </tr>\n",
       "    <tr>\n",
       "      <th>50%</th>\n",
       "      <td>59820.000000</td>\n",
       "      <td>9.000000</td>\n",
       "      <td>17.985000</td>\n",
       "      <td>11.000000</td>\n",
       "      <td>6.100000</td>\n",
       "      <td>1.210000</td>\n",
       "      <td>95.000000</td>\n",
       "      <td>10.000000</td>\n",
       "      <td>6.000000</td>\n",
       "      <td>11.590000</td>\n",
       "      <td>2.090000e+00</td>\n",
       "    </tr>\n",
       "    <tr>\n",
       "      <th>75%</th>\n",
       "      <td>157353.000000</td>\n",
       "      <td>26.000000</td>\n",
       "      <td>69.820000</td>\n",
       "      <td>39.000000</td>\n",
       "      <td>6.900000</td>\n",
       "      <td>3.930000</td>\n",
       "      <td>107.000000</td>\n",
       "      <td>15.000000</td>\n",
       "      <td>12.000000</td>\n",
       "      <td>63.930000</td>\n",
       "      <td>4.280000e+00</td>\n",
       "    </tr>\n",
       "    <tr>\n",
       "      <th>max</th>\n",
       "      <td>469172.000000</td>\n",
       "      <td>380.000000</td>\n",
       "      <td>2787.970000</td>\n",
       "      <td>14075.000000</td>\n",
       "      <td>10.000000</td>\n",
       "      <td>547.490000</td>\n",
       "      <td>1256.000000</td>\n",
       "      <td>313.000000</td>\n",
       "      <td>435.000000</td>\n",
       "      <td>2550.970000</td>\n",
       "      <td>1.239638e+07</td>\n",
       "    </tr>\n",
       "  </tbody>\n",
       "</table>\n",
       "</div>"
      ],
      "text/plain": [
       "                  id       budget  ...       profit       returns\n",
       "count   44985.000000  8576.000000  ...  5309.000000  5.309000e+03\n",
       "mean   108100.065689    22.372351  ...    60.019260  5.641379e+03\n",
       "std    112318.916473    34.686531  ...   140.308394  2.183215e+05\n",
       "min         2.000000     0.010000  ...  -165.710000  1.000000e-02\n",
       "25%     26225.000000     2.300000  ...    -1.630000  8.300000e-01\n",
       "50%     59820.000000     9.000000  ...    11.590000  2.090000e+00\n",
       "75%    157353.000000    26.000000  ...    63.930000  4.280000e+00\n",
       "max    469172.000000   380.000000  ...  2550.970000  1.239638e+07\n",
       "\n",
       "[8 rows x 11 columns]"
      ]
     },
     "execution_count": 156,
     "metadata": {
      "tags": []
     },
     "output_type": "execute_result"
    }
   ],
   "source": [
    "# summarizing numerical columns\n",
    "movies.describe()"
   ]
  },
  {
   "cell_type": "code",
   "execution_count": 157,
   "metadata": {
    "colab": {
     "base_uri": "https://localhost:8080/",
     "height": 261
    },
    "executionInfo": {
     "elapsed": 81497,
     "status": "ok",
     "timestamp": 1601154515521,
     "user": {
      "displayName": "Ans Jayan",
      "photoUrl": "",
      "userId": "11941340864978647565"
     },
     "user_tz": -330
    },
    "id": "hWKxBiHGJyh9",
    "outputId": "c9e11078-bc34-46f0-8ed0-129cce81b686"
   },
   "outputs": [
    {
     "data": {
      "text/html": [
       "<div>\n",
       "<style scoped>\n",
       "    .dataframe tbody tr th:only-of-type {\n",
       "        vertical-align: middle;\n",
       "    }\n",
       "\n",
       "    .dataframe tbody tr th {\n",
       "        vertical-align: top;\n",
       "    }\n",
       "\n",
       "    .dataframe thead th {\n",
       "        text-align: right;\n",
       "    }\n",
       "</style>\n",
       "<table border=\"1\" class=\"dataframe\">\n",
       "  <thead>\n",
       "    <tr style=\"text-align: right;\">\n",
       "      <th></th>\n",
       "      <th>title</th>\n",
       "      <th>director</th>\n",
       "      <th>screenplay</th>\n",
       "      <th>tagline</th>\n",
       "      <th>genres</th>\n",
       "      <th>belongs_to_collection</th>\n",
       "      <th>original_language</th>\n",
       "      <th>production_companies</th>\n",
       "      <th>production_countries</th>\n",
       "      <th>overview</th>\n",
       "      <th>spoken_languages</th>\n",
       "      <th>cast</th>\n",
       "    </tr>\n",
       "  </thead>\n",
       "  <tbody>\n",
       "    <tr>\n",
       "      <th>count</th>\n",
       "      <td>44985</td>\n",
       "      <td>44125</td>\n",
       "      <td>15635</td>\n",
       "      <td>20285</td>\n",
       "      <td>42601</td>\n",
       "      <td>4463</td>\n",
       "      <td>44975</td>\n",
       "      <td>33357</td>\n",
       "      <td>38839</td>\n",
       "      <td>43919</td>\n",
       "      <td>41110</td>\n",
       "      <td>42625</td>\n",
       "    </tr>\n",
       "    <tr>\n",
       "      <th>unique</th>\n",
       "      <td>41888</td>\n",
       "      <td>17425</td>\n",
       "      <td>8375</td>\n",
       "      <td>20172</td>\n",
       "      <td>4045</td>\n",
       "      <td>1691</td>\n",
       "      <td>89</td>\n",
       "      <td>22537</td>\n",
       "      <td>2377</td>\n",
       "      <td>43893</td>\n",
       "      <td>1828</td>\n",
       "      <td>42287</td>\n",
       "    </tr>\n",
       "    <tr>\n",
       "      <th>top</th>\n",
       "      <td>Cinderella</td>\n",
       "      <td>John Ford</td>\n",
       "      <td>Woody Allen</td>\n",
       "      <td>Based on a true story.</td>\n",
       "      <td>Drama</td>\n",
       "      <td>The Bowery Boys</td>\n",
       "      <td>en</td>\n",
       "      <td>Metro-Goldwyn-Mayer (MGM)</td>\n",
       "      <td>United States of America</td>\n",
       "      <td>Adaptation of the Jane Austen novel.</td>\n",
       "      <td>English</td>\n",
       "      <td>Georges Méliès</td>\n",
       "    </tr>\n",
       "    <tr>\n",
       "      <th>freq</th>\n",
       "      <td>11</td>\n",
       "      <td>66</td>\n",
       "      <td>32</td>\n",
       "      <td>7</td>\n",
       "      <td>4937</td>\n",
       "      <td>29</td>\n",
       "      <td>31935</td>\n",
       "      <td>741</td>\n",
       "      <td>17723</td>\n",
       "      <td>3</td>\n",
       "      <td>22190</td>\n",
       "      <td>24</td>\n",
       "    </tr>\n",
       "  </tbody>\n",
       "</table>\n",
       "</div>"
      ],
      "text/plain": [
       "             title   director  ... spoken_languages            cast\n",
       "count        44985      44125  ...            41110           42625\n",
       "unique       41888      17425  ...             1828           42287\n",
       "top     Cinderella  John Ford  ...          English  Georges Méliès\n",
       "freq            11         66  ...            22190              24\n",
       "\n",
       "[4 rows x 12 columns]"
      ]
     },
     "execution_count": 157,
     "metadata": {
      "tags": []
     },
     "output_type": "execute_result"
    }
   ],
   "source": [
    "# summarizing categorical columns\n",
    "movies.describe(include = \"object\")"
   ]
  },
  {
   "cell_type": "code",
   "execution_count": 158,
   "metadata": {
    "colab": {
     "base_uri": "https://localhost:8080/",
     "height": 86
    },
    "executionInfo": {
     "elapsed": 84341,
     "status": "ok",
     "timestamp": 1601154518419,
     "user": {
      "displayName": "Ans Jayan",
      "photoUrl": "",
      "userId": "11941340864978647565"
     },
     "user_tz": -330
    },
    "id": "YEkH9BhpwXZi",
    "outputId": "a520a44f-f5a8-495a-cf39-5f2acfec16fb"
   },
   "outputs": [
    {
     "name": "stdout",
     "output_type": "stream",
     "text": [
      "[jovian] Detected Colab notebook...\u001b[0m\n",
      "[jovian] Uploading colab notebook to Jovian...\u001b[0m\n",
      "[jovian] Committed successfully! https://jovian.ml/ansjayan/my-project\u001b[0m\n"
     ]
    },
    {
     "data": {
      "application/vnd.google.colaboratory.intrinsic+json": {
       "type": "string"
      },
      "text/plain": [
       "'https://jovian.ml/ansjayan/my-project'"
      ]
     },
     "execution_count": 158,
     "metadata": {
      "tags": []
     },
     "output_type": "execute_result"
    }
   ],
   "source": [
    "# commit to jovian.ml\n",
    "jovian.commit(project='my-project', environment=None)"
   ]
  },
  {
   "cell_type": "markdown",
   "metadata": {
    "id": "yfKS6OLsSra3"
   },
   "source": [
    "## Director"
   ]
  },
  {
   "cell_type": "code",
   "execution_count": 159,
   "metadata": {
    "executionInfo": {
     "elapsed": 84329,
     "status": "ok",
     "timestamp": 1601154518435,
     "user": {
      "displayName": "Ans Jayan",
      "photoUrl": "",
      "userId": "11941340864978647565"
     },
     "user_tz": -330
    },
    "id": "v4eISt0SrgvV"
   },
   "outputs": [],
   "source": [
    "# Director dataframe\n",
    "director = movies.loc[:, ['title', 'director', 'revenue', 'budget', 'profit', 'returns']]"
   ]
  },
  {
   "cell_type": "markdown",
   "metadata": {
    "id": "2v-VVA0brleL"
   },
   "source": [
    "### Who directed maximum number of movies?. "
   ]
  },
  {
   "cell_type": "code",
   "execution_count": 160,
   "metadata": {
    "colab": {
     "base_uri": "https://localhost:8080/",
     "height": 361
    },
    "executionInfo": {
     "elapsed": 84255,
     "status": "ok",
     "timestamp": 1601154518449,
     "user": {
      "displayName": "Ans Jayan",
      "photoUrl": "",
      "userId": "11941340864978647565"
     },
     "user_tz": -330
    },
    "id": "5b-gIVIbruof",
    "outputId": "ff007f7b-3c43-419c-d602-e51c3186faa3"
   },
   "outputs": [
    {
     "data": {
      "text/html": [
       "\n",
       "<div id=\"altair-viz-731c65eb1fc1426b8152d0e1d2828b5d\"></div>\n",
       "<script type=\"text/javascript\">\n",
       "  (function(spec, embedOpt){\n",
       "    let outputDiv = document.currentScript.previousElementSibling;\n",
       "    if (outputDiv.id !== \"altair-viz-731c65eb1fc1426b8152d0e1d2828b5d\") {\n",
       "      outputDiv = document.getElementById(\"altair-viz-731c65eb1fc1426b8152d0e1d2828b5d\");\n",
       "    }\n",
       "    const paths = {\n",
       "      \"vega\": \"https://cdn.jsdelivr.net/npm//vega@5?noext\",\n",
       "      \"vega-lib\": \"https://cdn.jsdelivr.net/npm//vega-lib?noext\",\n",
       "      \"vega-lite\": \"https://cdn.jsdelivr.net/npm//vega-lite@4.8.1?noext\",\n",
       "      \"vega-embed\": \"https://cdn.jsdelivr.net/npm//vega-embed@6?noext\",\n",
       "    };\n",
       "\n",
       "    function loadScript(lib) {\n",
       "      return new Promise(function(resolve, reject) {\n",
       "        var s = document.createElement('script');\n",
       "        s.src = paths[lib];\n",
       "        s.async = true;\n",
       "        s.onload = () => resolve(paths[lib]);\n",
       "        s.onerror = () => reject(`Error loading script: ${paths[lib]}`);\n",
       "        document.getElementsByTagName(\"head\")[0].appendChild(s);\n",
       "      });\n",
       "    }\n",
       "\n",
       "    function showError(err) {\n",
       "      outputDiv.innerHTML = `<div class=\"error\" style=\"color:red;\">${err}</div>`;\n",
       "      throw err;\n",
       "    }\n",
       "\n",
       "    function displayChart(vegaEmbed) {\n",
       "      vegaEmbed(outputDiv, spec, embedOpt)\n",
       "        .catch(err => showError(`Javascript Error: ${err.message}<br>This usually means there's a typo in your chart specification. See the javascript console for the full traceback.`));\n",
       "    }\n",
       "\n",
       "    if(typeof define === \"function\" && define.amd) {\n",
       "      requirejs.config({paths});\n",
       "      require([\"vega-embed\"], displayChart, err => showError(`Error loading script: ${err.message}`));\n",
       "    } else if (typeof vegaEmbed === \"function\") {\n",
       "      displayChart(vegaEmbed);\n",
       "    } else {\n",
       "      loadScript(\"vega\")\n",
       "        .then(() => loadScript(\"vega-lite\"))\n",
       "        .then(() => loadScript(\"vega-embed\"))\n",
       "        .catch(showError)\n",
       "        .then(() => displayChart(vegaEmbed));\n",
       "    }\n",
       "  })({\"config\": {\"view\": {\"continuousWidth\": 400, \"continuousHeight\": 300}}, \"layer\": [{\"mark\": \"bar\", \"encoding\": {\"color\": {\"condition\": {\"value\": \"red\", \"test\": \"(datum.counts === 66)\"}, \"value\": \"green\"}, \"tooltip\": {\"type\": \"nominal\", \"field\": \"director\"}, \"x\": {\"type\": \"ordinal\", \"field\": \"director\"}, \"y\": {\"type\": \"quantitative\", \"field\": \"counts\"}}, \"height\": 200, \"title\": \"Most Number of Films Directed by\", \"width\": 500}, {\"mark\": {\"type\": \"text\", \"align\": \"center\", \"baseline\": \"bottom\", \"dx\": 0}, \"encoding\": {\"color\": {\"condition\": {\"value\": \"red\", \"test\": \"(datum.counts === 66)\"}, \"value\": \"green\"}, \"text\": {\"type\": \"quantitative\", \"field\": \"counts\"}, \"tooltip\": {\"type\": \"nominal\", \"field\": \"director\"}, \"x\": {\"type\": \"ordinal\", \"field\": \"director\"}, \"y\": {\"type\": \"quantitative\", \"field\": \"counts\"}}, \"height\": 200, \"title\": \"Most Number of Films Directed by\", \"width\": 500}], \"data\": {\"name\": \"data-a6c72cd1ec407390b1c8c8303e8a6712\"}, \"$schema\": \"https://vega.github.io/schema/vega-lite/v4.8.1.json\", \"datasets\": {\"data-a6c72cd1ec407390b1c8c8303e8a6712\": [{\"director\": \"John Ford\", \"counts\": 66}, {\"director\": \"Michael Curtiz\", \"counts\": 65}, {\"director\": \"Werner Herzog\", \"counts\": 54}, {\"director\": \"Alfred Hitchcock\", \"counts\": 53}, {\"director\": \"Woody Allen\", \"counts\": 49}, {\"director\": \"Georges M\\u00e9li\\u00e8s\", \"counts\": 49}, {\"director\": \"Jean-Luc Godard\", \"counts\": 46}, {\"director\": \"Sidney Lumet\", \"counts\": 46}, {\"director\": \"Charlie Chaplin\", \"counts\": 44}, {\"director\": \"Raoul Walsh\", \"counts\": 43}, {\"director\": \"William A. Wellman\", \"counts\": 42}, {\"director\": \"Henry Hathaway\", \"counts\": 41}, {\"director\": \"Richard Thorpe\", \"counts\": 40}, {\"director\": \"Ingmar Bergman\", \"counts\": 39}, {\"director\": \"Martin Scorsese\", \"counts\": 39}, {\"director\": \"George Cukor\", \"counts\": 38}, {\"director\": \"John Huston\", \"counts\": 38}, {\"director\": \"Fritz Lang\", \"counts\": 38}, {\"director\": \"Mervyn LeRoy\", \"counts\": 37}, {\"director\": \"Robert Altman\", \"counts\": 37}]}}, {\"mode\": \"vega-lite\"});\n",
       "</script>"
      ],
      "text/plain": [
       "alt.LayerChart(...)"
      ]
     },
     "execution_count": 160,
     "metadata": {
      "tags": []
     },
     "output_type": "execute_result"
    }
   ],
   "source": [
    "# Maximum number of movies directed by.\n",
    "dir = director.director.value_counts().reset_index()\n",
    "dir.columns = ['director', 'counts']\n",
    "# creating an altair bar chart\n",
    "bars = alt.Chart(dir.head(20)).mark_bar().encode(\n",
    "    x = 'director:O',\n",
    "    y = 'counts:Q',\n",
    "    color = alt.condition(\n",
    "        datum.counts == np.amax(dir.counts),\n",
    "        alt.value('red'),\n",
    "        alt.value('green')\n",
    "    ),\n",
    "    tooltip = 'director'\n",
    ").properties(\n",
    "    title='Most Number of Films Directed by',\n",
    "    height=200,\n",
    "    width=500\n",
    ")\n",
    "# adding text info\n",
    "text = bars.mark_text(\n",
    "    align='center', # center left right\n",
    "    baseline='bottom', # top middle\n",
    "    dx=0  # Nudges text to right so it doesn't appear on top of the bar\n",
    ").encode(\n",
    "    text='counts:Q'\n",
    ")\n",
    "# layering both bars and text\n",
    "alt.layer(bars, text)\n"
   ]
  },
  {
   "cell_type": "markdown",
   "metadata": {
    "id": "lTSu3ar8rvX6"
   },
   "source": [
    "### Total profits attained from all the movies of each director?.   \n"
   ]
  },
  {
   "cell_type": "code",
   "execution_count": 161,
   "metadata": {
    "colab": {
     "base_uri": "https://localhost:8080/",
     "height": 356
    },
    "executionInfo": {
     "elapsed": 84209,
     "status": "ok",
     "timestamp": 1601154518457,
     "user": {
      "displayName": "Ans Jayan",
      "photoUrl": "",
      "userId": "11941340864978647565"
     },
     "user_tz": -330
    },
    "id": "YsxldEJKry9t",
    "outputId": "7ff54d2d-7de3-405f-eaa3-c73542d096c4"
   },
   "outputs": [
    {
     "data": {
      "text/html": [
       "\n",
       "<div id=\"altair-viz-81bd8eecbb4f460f9d5c20aa1dbcd51c\"></div>\n",
       "<script type=\"text/javascript\">\n",
       "  (function(spec, embedOpt){\n",
       "    let outputDiv = document.currentScript.previousElementSibling;\n",
       "    if (outputDiv.id !== \"altair-viz-81bd8eecbb4f460f9d5c20aa1dbcd51c\") {\n",
       "      outputDiv = document.getElementById(\"altair-viz-81bd8eecbb4f460f9d5c20aa1dbcd51c\");\n",
       "    }\n",
       "    const paths = {\n",
       "      \"vega\": \"https://cdn.jsdelivr.net/npm//vega@5?noext\",\n",
       "      \"vega-lib\": \"https://cdn.jsdelivr.net/npm//vega-lib?noext\",\n",
       "      \"vega-lite\": \"https://cdn.jsdelivr.net/npm//vega-lite@4.8.1?noext\",\n",
       "      \"vega-embed\": \"https://cdn.jsdelivr.net/npm//vega-embed@6?noext\",\n",
       "    };\n",
       "\n",
       "    function loadScript(lib) {\n",
       "      return new Promise(function(resolve, reject) {\n",
       "        var s = document.createElement('script');\n",
       "        s.src = paths[lib];\n",
       "        s.async = true;\n",
       "        s.onload = () => resolve(paths[lib]);\n",
       "        s.onerror = () => reject(`Error loading script: ${paths[lib]}`);\n",
       "        document.getElementsByTagName(\"head\")[0].appendChild(s);\n",
       "      });\n",
       "    }\n",
       "\n",
       "    function showError(err) {\n",
       "      outputDiv.innerHTML = `<div class=\"error\" style=\"color:red;\">${err}</div>`;\n",
       "      throw err;\n",
       "    }\n",
       "\n",
       "    function displayChart(vegaEmbed) {\n",
       "      vegaEmbed(outputDiv, spec, embedOpt)\n",
       "        .catch(err => showError(`Javascript Error: ${err.message}<br>This usually means there's a typo in your chart specification. See the javascript console for the full traceback.`));\n",
       "    }\n",
       "\n",
       "    if(typeof define === \"function\" && define.amd) {\n",
       "      requirejs.config({paths});\n",
       "      require([\"vega-embed\"], displayChart, err => showError(`Error loading script: ${err.message}`));\n",
       "    } else if (typeof vegaEmbed === \"function\") {\n",
       "      displayChart(vegaEmbed);\n",
       "    } else {\n",
       "      loadScript(\"vega\")\n",
       "        .then(() => loadScript(\"vega-lite\"))\n",
       "        .then(() => loadScript(\"vega-embed\"))\n",
       "        .catch(showError)\n",
       "        .then(() => displayChart(vegaEmbed));\n",
       "    }\n",
       "  })({\"config\": {\"view\": {\"continuousWidth\": 400, \"continuousHeight\": 300}}, \"layer\": [{\"mark\": \"square\", \"encoding\": {\"color\": {\"condition\": {\"value\": \"red\", \"test\": \"(datum.profit === 7520)\"}, \"value\": \"green\"}, \"tooltip\": {\"type\": \"nominal\", \"field\": \"director\"}, \"x\": {\"type\": \"ordinal\", \"field\": \"director\"}, \"y\": {\"type\": \"quantitative\", \"field\": \"profit\"}}, \"height\": 200, \"title\": \"Directors with maximum profit\", \"width\": 500}, {\"mark\": {\"type\": \"text\", \"align\": \"center\", \"baseline\": \"bottom\", \"dx\": 0}, \"encoding\": {\"color\": {\"condition\": {\"value\": \"red\", \"test\": \"(datum.profit === 7520)\"}, \"value\": \"green\"}, \"text\": {\"type\": \"quantitative\", \"field\": \"profit\"}, \"tooltip\": {\"type\": \"nominal\", \"field\": \"director\"}, \"x\": {\"type\": \"ordinal\", \"field\": \"director\"}, \"y\": {\"type\": \"quantitative\", \"field\": \"profit\"}}, \"height\": 200, \"title\": \"Directors with maximum profit\", \"width\": 500}], \"data\": {\"name\": \"data-0531f5ebbd62572698b79dfe7052cf99\"}, \"$schema\": \"https://vega.github.io/schema/vega-lite/v4.8.1.json\", \"datasets\": {\"data-0531f5ebbd62572698b79dfe7052cf99\": [{\"director\": \"Steven Spielberg\", \"profit\": 7520}, {\"director\": \"Peter Jackson\", \"profit\": 5202}, {\"director\": \"James Cameron\", \"profit\": 5140}, {\"director\": \"Michael Bay\", \"profit\": 4767}, {\"director\": \"David Yates\", \"profit\": 4199}, {\"director\": \"Christopher Nolan\", \"profit\": 3642}, {\"director\": \"Chris Columbus\", \"profit\": 3113}, {\"director\": \"George Lucas\", \"profit\": 2981}, {\"director\": \"Robert Zemeckis\", \"profit\": 2975}, {\"director\": \"J.J. Abrams\", \"profit\": 2794}, {\"director\": \"Tim Burton\", \"profit\": 2769}, {\"director\": \"Roland Emmerich\", \"profit\": 2639}, {\"director\": \"Francis Lawrence\", \"profit\": 2480}, {\"director\": \"Bill Condon\", \"profit\": 2476}, {\"director\": \"Joss Whedon\", \"profit\": 2424}, {\"director\": \"Gore Verbinski\", \"profit\": 2342}, {\"director\": \"Ron Howard\", \"profit\": 2305}, {\"director\": \"Sam Raimi\", \"profit\": 2304}, {\"director\": \"Kyle Balda\", \"profit\": 2301}, {\"director\": \"Ridley Scott\", \"profit\": 2276}]}}, {\"mode\": \"vega-lite\"});\n",
       "</script>"
      ],
      "text/plain": [
       "alt.LayerChart(...)"
      ]
     },
     "execution_count": 161,
     "metadata": {
      "tags": []
     },
     "output_type": "execute_result"
    }
   ],
   "source": [
    "# directors with maximum profit\n",
    "profit = director.groupby('director').profit.sum().sort_values(ascending=False).reset_index()\n",
    "profit.columns = ['director', 'profit']\n",
    "profit['profit'] = profit['profit'].astype(\"int\")\n",
    "\n",
    "bars = alt.Chart(profit.head(20)).mark_square().encode(\n",
    "    x='director:O',\n",
    "    y='profit:Q',\n",
    "    color = alt.condition(\n",
    "        datum.profit == np.amax(profit['profit']),\n",
    "        alt.value('red'),\n",
    "        alt.value('green')\n",
    "    ),\n",
    "    tooltip='director'\n",
    ").properties(\n",
    "    title='Directors with maximum profit',\n",
    "    height=200,\n",
    "    width=500\n",
    ")\n",
    "text = bars.mark_text(\n",
    "    align='center', # center left right\n",
    "    baseline='bottom', # top middle\n",
    "    dx=0  # Nudges text to right so it doesn't appear on top of the bar\n",
    ").encode(\n",
    "    text='profit:Q'\n",
    ")\n",
    "alt.layer(bars, text)\n"
   ]
  },
  {
   "cell_type": "markdown",
   "metadata": {
    "id": "MBwOzBZMrzg6"
   },
   "source": [
    "### Which director's movie got maximum profit?"
   ]
  },
  {
   "cell_type": "code",
   "execution_count": 162,
   "metadata": {
    "colab": {
     "base_uri": "https://localhost:8080/",
     "height": 352
    },
    "executionInfo": {
     "elapsed": 84168,
     "status": "ok",
     "timestamp": 1601154518481,
     "user": {
      "displayName": "Ans Jayan",
      "photoUrl": "",
      "userId": "11941340864978647565"
     },
     "user_tz": -330
    },
    "id": "bROuBy_3r9Pn",
    "outputId": "f0a3d801-db42-49e4-bf1a-dd794f0b3975"
   },
   "outputs": [
    {
     "data": {
      "text/html": [
       "\n",
       "<div id=\"altair-viz-8784c01b8e5e4f3ebbec2090ffd1c455\"></div>\n",
       "<script type=\"text/javascript\">\n",
       "  (function(spec, embedOpt){\n",
       "    let outputDiv = document.currentScript.previousElementSibling;\n",
       "    if (outputDiv.id !== \"altair-viz-8784c01b8e5e4f3ebbec2090ffd1c455\") {\n",
       "      outputDiv = document.getElementById(\"altair-viz-8784c01b8e5e4f3ebbec2090ffd1c455\");\n",
       "    }\n",
       "    const paths = {\n",
       "      \"vega\": \"https://cdn.jsdelivr.net/npm//vega@5?noext\",\n",
       "      \"vega-lib\": \"https://cdn.jsdelivr.net/npm//vega-lib?noext\",\n",
       "      \"vega-lite\": \"https://cdn.jsdelivr.net/npm//vega-lite@4.8.1?noext\",\n",
       "      \"vega-embed\": \"https://cdn.jsdelivr.net/npm//vega-embed@6?noext\",\n",
       "    };\n",
       "\n",
       "    function loadScript(lib) {\n",
       "      return new Promise(function(resolve, reject) {\n",
       "        var s = document.createElement('script');\n",
       "        s.src = paths[lib];\n",
       "        s.async = true;\n",
       "        s.onload = () => resolve(paths[lib]);\n",
       "        s.onerror = () => reject(`Error loading script: ${paths[lib]}`);\n",
       "        document.getElementsByTagName(\"head\")[0].appendChild(s);\n",
       "      });\n",
       "    }\n",
       "\n",
       "    function showError(err) {\n",
       "      outputDiv.innerHTML = `<div class=\"error\" style=\"color:red;\">${err}</div>`;\n",
       "      throw err;\n",
       "    }\n",
       "\n",
       "    function displayChart(vegaEmbed) {\n",
       "      vegaEmbed(outputDiv, spec, embedOpt)\n",
       "        .catch(err => showError(`Javascript Error: ${err.message}<br>This usually means there's a typo in your chart specification. See the javascript console for the full traceback.`));\n",
       "    }\n",
       "\n",
       "    if(typeof define === \"function\" && define.amd) {\n",
       "      requirejs.config({paths});\n",
       "      require([\"vega-embed\"], displayChart, err => showError(`Error loading script: ${err.message}`));\n",
       "    } else if (typeof vegaEmbed === \"function\") {\n",
       "      displayChart(vegaEmbed);\n",
       "    } else {\n",
       "      loadScript(\"vega\")\n",
       "        .then(() => loadScript(\"vega-lite\"))\n",
       "        .then(() => loadScript(\"vega-embed\"))\n",
       "        .catch(showError)\n",
       "        .then(() => displayChart(vegaEmbed));\n",
       "    }\n",
       "  })({\"config\": {\"view\": {\"continuousWidth\": 400, \"continuousHeight\": 300}}, \"layer\": [{\"mark\": \"tick\", \"encoding\": {\"color\": {\"condition\": {\"value\": \"red\", \"test\": \"(datum.profit === 2550)\"}, \"value\": \"green\"}, \"tooltip\": [{\"type\": \"nominal\", \"field\": \"title\"}, {\"type\": \"nominal\", \"field\": \"director\"}, {\"type\": \"quantitative\", \"field\": \"profit\"}], \"x\": {\"type\": \"ordinal\", \"field\": \"director\"}, \"y\": {\"type\": \"quantitative\", \"field\": \"profit\"}}, \"height\": 200, \"title\": \"Highest profit\", \"width\": 500}, {\"mark\": {\"type\": \"text\", \"align\": \"center\", \"baseline\": \"bottom\", \"dx\": 0}, \"encoding\": {\"color\": {\"condition\": {\"value\": \"red\", \"test\": \"(datum.profit === 2550)\"}, \"value\": \"green\"}, \"text\": {\"type\": \"quantitative\", \"field\": \"profit\"}, \"tooltip\": [{\"type\": \"nominal\", \"field\": \"title\"}, {\"type\": \"nominal\", \"field\": \"director\"}, {\"type\": \"quantitative\", \"field\": \"profit\"}], \"x\": {\"type\": \"ordinal\", \"field\": \"director\"}, \"y\": {\"type\": \"quantitative\", \"field\": \"profit\"}}, \"height\": 200, \"title\": \"Highest profit\", \"width\": 500}], \"data\": {\"name\": \"data-ab95618272b11a3a2397654d1837d7a5\"}, \"$schema\": \"https://vega.github.io/schema/vega-lite/v4.8.1.json\", \"datasets\": {\"data-ab95618272b11a3a2397654d1837d7a5\": [{\"title\": \"Avatar\", \"director\": \"James Cameron\", \"revenue\": 2787.97, \"budget\": 237.0, \"profit\": 2550, \"returns\": 11.76}, {\"title\": \"Star Wars: The Force Awakens\", \"director\": \"J.J. Abrams\", \"revenue\": 2068.22, \"budget\": 245.0, \"profit\": 1823, \"returns\": 8.44}, {\"title\": \"Titanic\", \"director\": \"James Cameron\", \"revenue\": 1845.03, \"budget\": 200.0, \"profit\": 1645, \"returns\": 9.23}, {\"title\": \"Jurassic World\", \"director\": \"Colin Trevorrow\", \"revenue\": 1513.53, \"budget\": 150.0, \"profit\": 1363, \"returns\": 10.09}, {\"title\": \"Furious 7\", \"director\": \"James Wan\", \"revenue\": 1506.25, \"budget\": 190.0, \"profit\": 1316, \"returns\": 7.93}, {\"title\": \"The Avengers\", \"director\": \"Joss Whedon\", \"revenue\": 1519.56, \"budget\": 220.0, \"profit\": 1299, \"returns\": 6.91}, {\"title\": \"Harry Potter and the Deathly Hallows: Part 2\", \"director\": \"David Yates\", \"revenue\": 1342.0, \"budget\": 125.0, \"profit\": 1217, \"returns\": 10.74}, {\"title\": \"Avengers: Age of Ultron\", \"director\": \"Joss Whedon\", \"revenue\": 1405.4, \"budget\": 280.0, \"profit\": 1125, \"returns\": 5.02}, {\"title\": \"Frozen\", \"director\": \"Chris Buck\", \"revenue\": 1274.22, \"budget\": 150.0, \"profit\": 1124, \"returns\": 8.49}, {\"title\": \"Beauty and the Beast\", \"director\": \"Bill Condon\", \"revenue\": 1262.89, \"budget\": 160.0, \"profit\": 1102, \"returns\": 7.89}, {\"title\": \"Minions\", \"director\": \"Kyle Balda\", \"revenue\": 1156.73, \"budget\": 74.0, \"profit\": 1082, \"returns\": 15.63}, {\"title\": \"The Lord of the Rings: The Return of the King\", \"director\": \"Peter Jackson\", \"revenue\": 1118.89, \"budget\": 94.0, \"profit\": 1024, \"returns\": 11.9}, {\"title\": \"Iron Man 3\", \"director\": \"Shane Black\", \"revenue\": 1215.44, \"budget\": 200.0, \"profit\": 1015, \"returns\": 6.08}, {\"title\": \"The Fate of the Furious\", \"director\": \"F. Gary Gray\", \"revenue\": 1238.76, \"budget\": 250.0, \"profit\": 988, \"returns\": 4.96}, {\"title\": \"Despicable Me 3\", \"director\": \"Kyle Balda\", \"revenue\": 1020.06, \"budget\": 80.0, \"profit\": 940, \"returns\": 12.75}, {\"title\": \"Transformers: Dark of the Moon\", \"director\": \"Michael Bay\", \"revenue\": 1123.75, \"budget\": 195.0, \"profit\": 928, \"returns\": 5.76}, {\"title\": \"Skyfall\", \"director\": \"Sam Mendes\", \"revenue\": 1108.56, \"budget\": 200.0, \"profit\": 908, \"returns\": 5.54}, {\"title\": \"Captain America: Civil War\", \"director\": \"Anthony Russo\", \"revenue\": 1153.3, \"budget\": 250.0, \"profit\": 903, \"returns\": 4.61}, {\"title\": \"Despicable Me 2\", \"director\": \"Pierre Coffin\", \"revenue\": 970.76, \"budget\": 76.0, \"profit\": 894, \"returns\": 12.77}, {\"title\": \"Transformers: Age of Extinction\", \"director\": \"Michael Bay\", \"revenue\": 1091.41, \"budget\": 210.0, \"profit\": 881, \"returns\": 5.2}]}}, {\"mode\": \"vega-lite\"});\n",
       "</script>"
      ],
      "text/plain": [
       "alt.LayerChart(...)"
      ]
     },
     "execution_count": 162,
     "metadata": {
      "tags": []
     },
     "output_type": "execute_result"
    }
   ],
   "source": [
    "# Highest profit movies.\n",
    "hpt = director.sort_values(by='profit', ascending=False)\n",
    "hpt.dropna(inplace=True)\n",
    "hpt.profit = hpt.profit.astype(\"int\")\n",
    "\n",
    "points = alt.Chart(hpt.head(20)).mark_tick().encode(\n",
    "    x='director:O',\n",
    "    y='profit:Q',\n",
    "    color = alt.condition(\n",
    "        datum.profit == np.amax(hpt['profit']),\n",
    "        alt.value('red'),\n",
    "        alt.value('green')\n",
    "    ),\n",
    "    tooltip=['title', 'director', 'profit'] # shows movies name\n",
    ").properties(\n",
    "    title='Highest profit',\n",
    "    height=200,\n",
    "    width=500\n",
    ")\n",
    "text = points.mark_text(\n",
    "    align='center', # center left right\n",
    "    baseline='bottom', # top middle\n",
    "    dx=0  # Nudges text to right so it doesn't appear on top of the bar\n",
    ").encode(\n",
    "    text='profit:Q',\n",
    ")\n",
    "alt.layer(points, text)"
   ]
  },
  {
   "cell_type": "code",
   "execution_count": 163,
   "metadata": {
    "colab": {
     "base_uri": "https://localhost:8080/",
     "height": 86
    },
    "executionInfo": {
     "elapsed": 91665,
     "status": "ok",
     "timestamp": 1601154526050,
     "user": {
      "displayName": "Ans Jayan",
      "photoUrl": "",
      "userId": "11941340864978647565"
     },
     "user_tz": -330
    },
    "id": "ovdy1ZUfUbcb",
    "outputId": "86f15fec-4742-4612-c62e-a9fb58fe09b6"
   },
   "outputs": [
    {
     "name": "stdout",
     "output_type": "stream",
     "text": [
      "[jovian] Detected Colab notebook...\u001b[0m\n",
      "[jovian] Uploading colab notebook to Jovian...\u001b[0m\n",
      "[jovian] Committed successfully! https://jovian.ml/ansjayan/my-project\u001b[0m\n"
     ]
    },
    {
     "data": {
      "application/vnd.google.colaboratory.intrinsic+json": {
       "type": "string"
      },
      "text/plain": [
       "'https://jovian.ml/ansjayan/my-project'"
      ]
     },
     "execution_count": 163,
     "metadata": {
      "tags": []
     },
     "output_type": "execute_result"
    }
   ],
   "source": [
    "# commit to jovian.ml\n",
    "jovian.commit(project='my-project', environment=None)"
   ]
  },
  {
   "cell_type": "markdown",
   "metadata": {
    "id": "Uy2qRW7hzBAR"
   },
   "source": [
    "## Screenplay Writers"
   ]
  },
  {
   "cell_type": "code",
   "execution_count": 164,
   "metadata": {
    "executionInfo": {
     "elapsed": 91663,
     "status": "ok",
     "timestamp": 1601154526063,
     "user": {
      "displayName": "Ans Jayan",
      "photoUrl": "",
      "userId": "11941340864978647565"
     },
     "user_tz": -330
    },
    "id": "Taw_Kn8QzBAv"
   },
   "outputs": [],
   "source": [
    "# screenplay dataframe\n",
    "screenplay = movies.loc[:, ['title', 'screenplay', 'revenue', 'budget', 'profit', 'returns']]"
   ]
  },
  {
   "cell_type": "markdown",
   "metadata": {
    "id": "-4hC-Z51zBBI"
   },
   "source": [
    "### Who wrote maximum number of movies?. "
   ]
  },
  {
   "cell_type": "code",
   "execution_count": 165,
   "metadata": {
    "colab": {
     "base_uri": "https://localhost:8080/",
     "height": 17
    },
    "executionInfo": {
     "elapsed": 91629,
     "status": "ok",
     "timestamp": 1601154526073,
     "user": {
      "displayName": "Ans Jayan",
      "photoUrl": "",
      "userId": "11941340864978647565"
     },
     "user_tz": -330
    },
    "id": "4eG-DElKzBBL",
    "outputId": "50067dde-dc7f-4ed1-b9e8-50d1ea053331"
   },
   "outputs": [
    {
     "data": {
      "text/html": [
       "\n",
       "<div id=\"altair-viz-349d1b94cd7e47a389e26f75b5ff8f71\"></div>\n",
       "<script type=\"text/javascript\">\n",
       "  (function(spec, embedOpt){\n",
       "    let outputDiv = document.currentScript.previousElementSibling;\n",
       "    if (outputDiv.id !== \"altair-viz-349d1b94cd7e47a389e26f75b5ff8f71\") {\n",
       "      outputDiv = document.getElementById(\"altair-viz-349d1b94cd7e47a389e26f75b5ff8f71\");\n",
       "    }\n",
       "    const paths = {\n",
       "      \"vega\": \"https://cdn.jsdelivr.net/npm//vega@5?noext\",\n",
       "      \"vega-lib\": \"https://cdn.jsdelivr.net/npm//vega-lib?noext\",\n",
       "      \"vega-lite\": \"https://cdn.jsdelivr.net/npm//vega-lite@4.8.1?noext\",\n",
       "      \"vega-embed\": \"https://cdn.jsdelivr.net/npm//vega-embed@6?noext\",\n",
       "    };\n",
       "\n",
       "    function loadScript(lib) {\n",
       "      return new Promise(function(resolve, reject) {\n",
       "        var s = document.createElement('script');\n",
       "        s.src = paths[lib];\n",
       "        s.async = true;\n",
       "        s.onload = () => resolve(paths[lib]);\n",
       "        s.onerror = () => reject(`Error loading script: ${paths[lib]}`);\n",
       "        document.getElementsByTagName(\"head\")[0].appendChild(s);\n",
       "      });\n",
       "    }\n",
       "\n",
       "    function showError(err) {\n",
       "      outputDiv.innerHTML = `<div class=\"error\" style=\"color:red;\">${err}</div>`;\n",
       "      throw err;\n",
       "    }\n",
       "\n",
       "    function displayChart(vegaEmbed) {\n",
       "      vegaEmbed(outputDiv, spec, embedOpt)\n",
       "        .catch(err => showError(`Javascript Error: ${err.message}<br>This usually means there's a typo in your chart specification. See the javascript console for the full traceback.`));\n",
       "    }\n",
       "\n",
       "    if(typeof define === \"function\" && define.amd) {\n",
       "      requirejs.config({paths});\n",
       "      require([\"vega-embed\"], displayChart, err => showError(`Error loading script: ${err.message}`));\n",
       "    } else if (typeof vegaEmbed === \"function\") {\n",
       "      displayChart(vegaEmbed);\n",
       "    } else {\n",
       "      loadScript(\"vega\")\n",
       "        .then(() => loadScript(\"vega-lite\"))\n",
       "        .then(() => loadScript(\"vega-embed\"))\n",
       "        .catch(showError)\n",
       "        .then(() => displayChart(vegaEmbed));\n",
       "    }\n",
       "  })({\"config\": {\"view\": {\"continuousWidth\": 400, \"continuousHeight\": 300}}, \"layer\": [{\"mark\": \"rule\", \"encoding\": {\"color\": {\"condition\": {\"value\": \"red\", \"test\": \"(datum.counts === 32)\"}, \"value\": \"green\"}, \"tooltip\": {\"type\": \"nominal\", \"field\": \"screenplay\"}, \"x\": {\"type\": \"ordinal\", \"field\": \"screenplay\"}, \"y\": {\"type\": \"quantitative\", \"field\": \"counts\"}}, \"height\": 200, \"title\": \"Most Number of Films Written by\", \"width\": 500}, {\"mark\": {\"type\": \"text\", \"align\": \"center\", \"baseline\": \"bottom\", \"dx\": 0}, \"encoding\": {\"color\": {\"condition\": {\"value\": \"red\", \"test\": \"(datum.counts === 32)\"}, \"value\": \"green\"}, \"text\": {\"type\": \"quantitative\", \"field\": \"counts\"}, \"tooltip\": {\"type\": \"nominal\", \"field\": \"screenplay\"}, \"x\": {\"type\": \"ordinal\", \"field\": \"screenplay\"}, \"y\": {\"type\": \"quantitative\", \"field\": \"counts\"}}, \"height\": 200, \"title\": \"Most Number of Films Written by\", \"width\": 500}], \"data\": {\"name\": \"data-551f56a6d6a185a85e4d4a76e1aa6493\"}, \"$schema\": \"https://vega.github.io/schema/vega-lite/v4.8.1.json\", \"datasets\": {\"data-551f56a6d6a185a85e4d4a76e1aa6493\": [{\"screenplay\": \"Woody Allen\", \"counts\": 32}, {\"screenplay\": \"Dudley Nichols\", \"counts\": 28}, {\"screenplay\": \"Nunnally Johnson\", \"counts\": 28}, {\"screenplay\": \"Julius J. Epstein\", \"counts\": 26}, {\"screenplay\": \"Ben Hecht\", \"counts\": 24}, {\"screenplay\": \"Claude Chabrol\", \"counts\": 23}, {\"screenplay\": \"Billy Wilder\", \"counts\": 22}, {\"screenplay\": \"Luc Besson\", \"counts\": 21}, {\"screenplay\": \"Blake Edwards\", \"counts\": 20}, {\"screenplay\": \"William Goldman\", \"counts\": 20}, {\"screenplay\": \"Dalton Trumbo\", \"counts\": 20}, {\"screenplay\": \"Lamar Trotti\", \"counts\": 19}, {\"screenplay\": \"Satyajit Ray\", \"counts\": 19}, {\"screenplay\": \"John Lee Mahin\", \"counts\": 19}, {\"screenplay\": \"John Hughes\", \"counts\": 18}, {\"screenplay\": \"Ernesto Gastaldi\", \"counts\": 18}, {\"screenplay\": \"Jimmy Sangster\", \"counts\": 18}, {\"screenplay\": \"Charles Lederer\", \"counts\": 17}, {\"screenplay\": \"Pedro Almod\\u00f3var\", \"counts\": 17}, {\"screenplay\": \"Fran\\u00e7ois Truffaut\", \"counts\": 16}]}}, {\"mode\": \"vega-lite\"});\n",
       "</script>"
      ],
      "text/plain": [
       "alt.LayerChart(...)"
      ]
     },
     "execution_count": 165,
     "metadata": {
      "tags": []
     },
     "output_type": "execute_result"
    }
   ],
   "source": [
    "# Maximum number of movies written by.\n",
    "scr = screenplay.screenplay.value_counts().reset_index()\n",
    "scr.columns = ['screenplay', 'counts']\n",
    "# creating an altair bar chart\n",
    "bars = alt.Chart(scr.head(20)).mark_rule().encode(\n",
    "    x = 'screenplay:O',\n",
    "    y = 'counts:Q',\n",
    "    color = alt.condition(\n",
    "        datum.counts == np.amax(scr.counts),\n",
    "        alt.value('red'),\n",
    "        alt.value('green')\n",
    "    ),\n",
    "    tooltip='screenplay'\n",
    ").properties(\n",
    "    title='Most Number of Films Written by',\n",
    "    height=200,\n",
    "    width=500\n",
    ")\n",
    "# adding text info\n",
    "text = bars.mark_text(\n",
    "    align='center', # center left right\n",
    "    baseline='bottom', # top middle\n",
    "    dx=0  # Nudges text to right so it doesn't appear on top of the bar\n",
    ").encode(\n",
    "    text='counts:Q'\n",
    ")\n",
    "# layering both bars and text\n",
    "alt.layer(bars, text)\n"
   ]
  },
  {
   "cell_type": "markdown",
   "metadata": {
    "id": "sqaX2IuJzBCA"
   },
   "source": [
    "### Total profits attained from all the movies of each writer?.   \n"
   ]
  },
  {
   "cell_type": "code",
   "execution_count": 166,
   "metadata": {
    "colab": {
     "base_uri": "https://localhost:8080/",
     "height": 17
    },
    "executionInfo": {
     "elapsed": 91563,
     "status": "ok",
     "timestamp": 1601154526080,
     "user": {
      "displayName": "Ans Jayan",
      "photoUrl": "",
      "userId": "11941340864978647565"
     },
     "user_tz": -330
    },
    "id": "eFzVF6MwzBCC",
    "outputId": "b32e8751-2758-461a-fefa-827427f5ad7f"
   },
   "outputs": [
    {
     "data": {
      "text/html": [
       "\n",
       "<div id=\"altair-viz-6e70d1ee57cf409897eebc35f2606429\"></div>\n",
       "<script type=\"text/javascript\">\n",
       "  (function(spec, embedOpt){\n",
       "    let outputDiv = document.currentScript.previousElementSibling;\n",
       "    if (outputDiv.id !== \"altair-viz-6e70d1ee57cf409897eebc35f2606429\") {\n",
       "      outputDiv = document.getElementById(\"altair-viz-6e70d1ee57cf409897eebc35f2606429\");\n",
       "    }\n",
       "    const paths = {\n",
       "      \"vega\": \"https://cdn.jsdelivr.net/npm//vega@5?noext\",\n",
       "      \"vega-lib\": \"https://cdn.jsdelivr.net/npm//vega-lib?noext\",\n",
       "      \"vega-lite\": \"https://cdn.jsdelivr.net/npm//vega-lite@4.8.1?noext\",\n",
       "      \"vega-embed\": \"https://cdn.jsdelivr.net/npm//vega-embed@6?noext\",\n",
       "    };\n",
       "\n",
       "    function loadScript(lib) {\n",
       "      return new Promise(function(resolve, reject) {\n",
       "        var s = document.createElement('script');\n",
       "        s.src = paths[lib];\n",
       "        s.async = true;\n",
       "        s.onload = () => resolve(paths[lib]);\n",
       "        s.onerror = () => reject(`Error loading script: ${paths[lib]}`);\n",
       "        document.getElementsByTagName(\"head\")[0].appendChild(s);\n",
       "      });\n",
       "    }\n",
       "\n",
       "    function showError(err) {\n",
       "      outputDiv.innerHTML = `<div class=\"error\" style=\"color:red;\">${err}</div>`;\n",
       "      throw err;\n",
       "    }\n",
       "\n",
       "    function displayChart(vegaEmbed) {\n",
       "      vegaEmbed(outputDiv, spec, embedOpt)\n",
       "        .catch(err => showError(`Javascript Error: ${err.message}<br>This usually means there's a typo in your chart specification. See the javascript console for the full traceback.`));\n",
       "    }\n",
       "\n",
       "    if(typeof define === \"function\" && define.amd) {\n",
       "      requirejs.config({paths});\n",
       "      require([\"vega-embed\"], displayChart, err => showError(`Error loading script: ${err.message}`));\n",
       "    } else if (typeof vegaEmbed === \"function\") {\n",
       "      displayChart(vegaEmbed);\n",
       "    } else {\n",
       "      loadScript(\"vega\")\n",
       "        .then(() => loadScript(\"vega-lite\"))\n",
       "        .then(() => loadScript(\"vega-embed\"))\n",
       "        .catch(showError)\n",
       "        .then(() => displayChart(vegaEmbed));\n",
       "    }\n",
       "  })({\"config\": {\"view\": {\"continuousWidth\": 400, \"continuousHeight\": 300}}, \"layer\": [{\"mark\": \"bar\", \"encoding\": {\"color\": {\"condition\": {\"value\": \"red\", \"test\": \"(datum.profit === 5636)\"}, \"value\": \"green\"}, \"tooltip\": {\"type\": \"nominal\", \"field\": \"screenplay\"}, \"x\": {\"type\": \"ordinal\", \"field\": \"screenplay\"}, \"y\": {\"type\": \"quantitative\", \"field\": \"profit\"}}, \"height\": 200, \"title\": \"Screenplay writers with maximum profit\", \"width\": 500}, {\"mark\": {\"type\": \"text\", \"align\": \"center\", \"baseline\": \"bottom\", \"dx\": 0}, \"encoding\": {\"color\": {\"condition\": {\"value\": \"red\", \"test\": \"(datum.profit === 5636)\"}, \"value\": \"green\"}, \"text\": {\"type\": \"quantitative\", \"field\": \"profit\"}, \"tooltip\": {\"type\": \"nominal\", \"field\": \"screenplay\"}, \"x\": {\"type\": \"ordinal\", \"field\": \"screenplay\"}, \"y\": {\"type\": \"quantitative\", \"field\": \"profit\"}}, \"height\": 200, \"title\": \"Screenplay writers with maximum profit\", \"width\": 500}], \"data\": {\"name\": \"data-a6f73953642a1573a54127f9c0c458c2\"}, \"$schema\": \"https://vega.github.io/schema/vega-lite/v4.8.1.json\", \"datasets\": {\"data-a6f73953642a1573a54127f9c0c458c2\": [{\"screenplay\": \"Steve Kloves\", \"profit\": 5636}, {\"screenplay\": \"James Cameron\", \"profit\": 4610}, {\"screenplay\": \"Ted Elliott\", \"profit\": 3484}, {\"screenplay\": \"Andrew Stanton\", \"profit\": 3138}, {\"screenplay\": \"Melissa Rosenberg\", \"profit\": 2957}, {\"screenplay\": \"Ehren Kruger\", \"profit\": 2921}, {\"screenplay\": \"Peter Jackson\", \"profit\": 2676}, {\"screenplay\": \"Christopher Nolan\", \"profit\": 2644}, {\"screenplay\": \"David Koepp\", \"profit\": 2574}, {\"screenplay\": \"Christopher Markus\", \"profit\": 2473}, {\"screenplay\": \"Akiva Goldsman\", \"profit\": 2130}, {\"screenplay\": \"Sylvester Stallone\", \"profit\": 1992}, {\"screenplay\": \"Michael Berg\", \"profit\": 1903}, {\"screenplay\": \"Linda Woolverton\", \"profit\": 1885}, {\"screenplay\": \"J.J. Abrams\", \"profit\": 1823}, {\"screenplay\": \"Joss Whedon\", \"profit\": 1781}, {\"screenplay\": \"Rick Jaffa\", \"profit\": 1753}, {\"screenplay\": \"Michael Arndt\", \"profit\": 1750}, {\"screenplay\": \"Ken Daurio\", \"profit\": 1702}, {\"screenplay\": \"Simon Kinberg\", \"profit\": 1695}]}}, {\"mode\": \"vega-lite\"});\n",
       "</script>"
      ],
      "text/plain": [
       "alt.LayerChart(...)"
      ]
     },
     "execution_count": 166,
     "metadata": {
      "tags": []
     },
     "output_type": "execute_result"
    }
   ],
   "source": [
    "# writers with maximum profit\n",
    "profit = screenplay.groupby('screenplay').profit.sum().sort_values(ascending=False).reset_index()\n",
    "profit.columns = ['screenplay', 'profit']\n",
    "profit['profit'] = profit['profit'].astype(\"int\")\n",
    "\n",
    "bars = alt.Chart(profit.head(20)).mark_bar().encode(\n",
    "    x='screenplay:O',\n",
    "    y='profit:Q',\n",
    "    color = alt.condition(\n",
    "        datum.profit == np.amax(profit['profit']),\n",
    "        alt.value('red'),\n",
    "        alt.value('green')\n",
    "    ),\n",
    "    tooltip='screenplay'\n",
    ").properties(\n",
    "    title='Screenplay writers with maximum profit',\n",
    "    height=200,\n",
    "    width=500\n",
    ")\n",
    "text = bars.mark_text(\n",
    "    align='center', # center left right\n",
    "    baseline='bottom', # top middle\n",
    "    dx=0  # Nudges text to right so it doesn't appear on top of the bar\n",
    ").encode(\n",
    "    text='profit:Q'\n",
    ")\n",
    "alt.layer(bars, text)\n"
   ]
  },
  {
   "cell_type": "markdown",
   "metadata": {
    "id": "3XrI9QCCzBCy"
   },
   "source": [
    "### Which screenplay writer's movie got maximum profit?"
   ]
  },
  {
   "cell_type": "code",
   "execution_count": 167,
   "metadata": {
    "colab": {
     "base_uri": "https://localhost:8080/",
     "height": 17
    },
    "executionInfo": {
     "elapsed": 91517,
     "status": "ok",
     "timestamp": 1601154526093,
     "user": {
      "displayName": "Ans Jayan",
      "photoUrl": "",
      "userId": "11941340864978647565"
     },
     "user_tz": -330
    },
    "id": "QZwXx0SNzBC0",
    "outputId": "ed6dab60-e0fe-4621-b289-944901837068"
   },
   "outputs": [
    {
     "data": {
      "text/html": [
       "\n",
       "<div id=\"altair-viz-f17c35aa05cc4478ab0ee8c86c99c02f\"></div>\n",
       "<script type=\"text/javascript\">\n",
       "  (function(spec, embedOpt){\n",
       "    let outputDiv = document.currentScript.previousElementSibling;\n",
       "    if (outputDiv.id !== \"altair-viz-f17c35aa05cc4478ab0ee8c86c99c02f\") {\n",
       "      outputDiv = document.getElementById(\"altair-viz-f17c35aa05cc4478ab0ee8c86c99c02f\");\n",
       "    }\n",
       "    const paths = {\n",
       "      \"vega\": \"https://cdn.jsdelivr.net/npm//vega@5?noext\",\n",
       "      \"vega-lib\": \"https://cdn.jsdelivr.net/npm//vega-lib?noext\",\n",
       "      \"vega-lite\": \"https://cdn.jsdelivr.net/npm//vega-lite@4.8.1?noext\",\n",
       "      \"vega-embed\": \"https://cdn.jsdelivr.net/npm//vega-embed@6?noext\",\n",
       "    };\n",
       "\n",
       "    function loadScript(lib) {\n",
       "      return new Promise(function(resolve, reject) {\n",
       "        var s = document.createElement('script');\n",
       "        s.src = paths[lib];\n",
       "        s.async = true;\n",
       "        s.onload = () => resolve(paths[lib]);\n",
       "        s.onerror = () => reject(`Error loading script: ${paths[lib]}`);\n",
       "        document.getElementsByTagName(\"head\")[0].appendChild(s);\n",
       "      });\n",
       "    }\n",
       "\n",
       "    function showError(err) {\n",
       "      outputDiv.innerHTML = `<div class=\"error\" style=\"color:red;\">${err}</div>`;\n",
       "      throw err;\n",
       "    }\n",
       "\n",
       "    function displayChart(vegaEmbed) {\n",
       "      vegaEmbed(outputDiv, spec, embedOpt)\n",
       "        .catch(err => showError(`Javascript Error: ${err.message}<br>This usually means there's a typo in your chart specification. See the javascript console for the full traceback.`));\n",
       "    }\n",
       "\n",
       "    if(typeof define === \"function\" && define.amd) {\n",
       "      requirejs.config({paths});\n",
       "      require([\"vega-embed\"], displayChart, err => showError(`Error loading script: ${err.message}`));\n",
       "    } else if (typeof vegaEmbed === \"function\") {\n",
       "      displayChart(vegaEmbed);\n",
       "    } else {\n",
       "      loadScript(\"vega\")\n",
       "        .then(() => loadScript(\"vega-lite\"))\n",
       "        .then(() => loadScript(\"vega-embed\"))\n",
       "        .catch(showError)\n",
       "        .then(() => displayChart(vegaEmbed));\n",
       "    }\n",
       "  })({\"config\": {\"view\": {\"continuousWidth\": 400, \"continuousHeight\": 300}}, \"layer\": [{\"mark\": \"text\", \"encoding\": {\"color\": {\"condition\": {\"value\": \"red\", \"test\": \"(datum.profit === 2550)\"}, \"value\": \"green\"}, \"tooltip\": [{\"type\": \"nominal\", \"field\": \"title\"}, {\"type\": \"nominal\", \"field\": \"screenplay\"}, {\"type\": \"quantitative\", \"field\": \"profit\"}], \"x\": {\"type\": \"ordinal\", \"field\": \"screenplay\"}, \"y\": {\"type\": \"quantitative\", \"field\": \"profit\"}}, \"height\": 200, \"title\": \"Highest profit\", \"width\": 500}, {\"mark\": {\"type\": \"text\", \"align\": \"center\", \"baseline\": \"bottom\", \"dx\": 0}, \"encoding\": {\"color\": {\"condition\": {\"value\": \"red\", \"test\": \"(datum.profit === 2550)\"}, \"value\": \"green\"}, \"text\": {\"type\": \"quantitative\", \"field\": \"profit\"}, \"tooltip\": [{\"type\": \"nominal\", \"field\": \"title\"}, {\"type\": \"nominal\", \"field\": \"screenplay\"}, {\"type\": \"quantitative\", \"field\": \"profit\"}], \"x\": {\"type\": \"ordinal\", \"field\": \"screenplay\"}, \"y\": {\"type\": \"quantitative\", \"field\": \"profit\"}}, \"height\": 200, \"title\": \"Highest profit\", \"width\": 500}], \"data\": {\"name\": \"data-e56257013dee7d46a403d36c43775132\"}, \"$schema\": \"https://vega.github.io/schema/vega-lite/v4.8.1.json\", \"datasets\": {\"data-e56257013dee7d46a403d36c43775132\": [{\"title\": \"Avatar\", \"screenplay\": \"James Cameron\", \"revenue\": 2787.97, \"budget\": 237.0, \"profit\": 2550, \"returns\": 11.76}, {\"title\": \"Star Wars: The Force Awakens\", \"screenplay\": \"J.J. Abrams\", \"revenue\": 2068.22, \"budget\": 245.0, \"profit\": 1823, \"returns\": 8.44}, {\"title\": \"Titanic\", \"screenplay\": \"James Cameron\", \"revenue\": 1845.03, \"budget\": 200.0, \"profit\": 1645, \"returns\": 9.23}, {\"title\": \"Jurassic World\", \"screenplay\": \"Rick Jaffa\", \"revenue\": 1513.53, \"budget\": 150.0, \"profit\": 1363, \"returns\": 10.09}, {\"title\": \"The Avengers\", \"screenplay\": \"Joss Whedon\", \"revenue\": 1519.56, \"budget\": 220.0, \"profit\": 1299, \"returns\": 6.91}, {\"title\": \"Harry Potter and the Deathly Hallows: Part 2\", \"screenplay\": \"Steve Kloves\", \"revenue\": 1342.0, \"budget\": 125.0, \"profit\": 1217, \"returns\": 10.74}, {\"title\": \"Frozen\", \"screenplay\": \"Jennifer Lee\", \"revenue\": 1274.22, \"budget\": 150.0, \"profit\": 1124, \"returns\": 8.49}, {\"title\": \"Beauty and the Beast\", \"screenplay\": \"Stephen Chbosky\", \"revenue\": 1262.89, \"budget\": 160.0, \"profit\": 1102, \"returns\": 7.89}, {\"title\": \"The Lord of the Rings: The Return of the King\", \"screenplay\": \"Peter Jackson\", \"revenue\": 1118.89, \"budget\": 94.0, \"profit\": 1024, \"returns\": 11.9}, {\"title\": \"Iron Man 3\", \"screenplay\": \"Shane Black\", \"revenue\": 1215.44, \"budget\": 200.0, \"profit\": 1015, \"returns\": 6.08}, {\"title\": \"Transformers: Dark of the Moon\", \"screenplay\": \"Ehren Kruger\", \"revenue\": 1123.75, \"budget\": 195.0, \"profit\": 928, \"returns\": 5.76}, {\"title\": \"Captain America: Civil War\", \"screenplay\": \"Christopher Markus\", \"revenue\": 1153.3, \"budget\": 250.0, \"profit\": 903, \"returns\": 4.61}, {\"title\": \"Despicable Me 2\", \"screenplay\": \"Ken Daurio\", \"revenue\": 970.76, \"budget\": 76.0, \"profit\": 894, \"returns\": 12.77}, {\"title\": \"Transformers: Age of Extinction\", \"screenplay\": \"Ehren Kruger\", \"revenue\": 1091.41, \"budget\": 210.0, \"profit\": 881, \"returns\": 5.2}, {\"title\": \"Zootopia\", \"screenplay\": \"Jared Bush\", \"revenue\": 1023.78, \"budget\": 150.0, \"profit\": 873, \"returns\": 6.83}, {\"title\": \"Toy Story 3\", \"screenplay\": \"Michael Arndt\", \"revenue\": 1066.97, \"budget\": 200.0, \"profit\": 866, \"returns\": 5.33}, {\"title\": \"Pirates of the Caribbean: Dead Man's Chest\", \"screenplay\": \"Ted Elliott\", \"revenue\": 1065.66, \"budget\": 200.0, \"profit\": 865, \"returns\": 5.33}, {\"title\": \"Jurassic Park\", \"screenplay\": \"Michael Crichton\", \"revenue\": 920.1, \"budget\": 63.0, \"profit\": 857, \"returns\": 14.6}, {\"title\": \"Rogue One: A Star Wars Story\", \"screenplay\": \"Chris Weitz\", \"revenue\": 1056.06, \"budget\": 200.0, \"profit\": 856, \"returns\": 5.28}, {\"title\": \"Harry Potter and the Philosopher's Stone\", \"screenplay\": \"Steve Kloves\", \"revenue\": 976.48, \"budget\": 125.0, \"profit\": 851, \"returns\": 7.81}]}}, {\"mode\": \"vega-lite\"});\n",
       "</script>"
      ],
      "text/plain": [
       "alt.LayerChart(...)"
      ]
     },
     "execution_count": 167,
     "metadata": {
      "tags": []
     },
     "output_type": "execute_result"
    }
   ],
   "source": [
    "# Highest profit movies.\n",
    "hpt = screenplay.sort_values(by='profit', ascending=False)\n",
    "hpt.dropna(inplace=True)\n",
    "hpt.profit = hpt.profit.astype(\"int\")\n",
    "\n",
    "points = alt.Chart(hpt.head(20)).mark_text().encode(\n",
    "    x='screenplay:O',\n",
    "    y='profit:Q',\n",
    "    color = alt.condition(\n",
    "        datum.profit == np.amax(hpt['profit']),\n",
    "        alt.value('red'),\n",
    "        alt.value('green')\n",
    "    ),\n",
    "    tooltip=['title', 'screenplay', 'profit'] # shows movies name\n",
    ").properties(\n",
    "    title='Highest profit',\n",
    "    height=200,\n",
    "    width=500\n",
    ")\n",
    "text = points.mark_text(\n",
    "    align='center', # center left right\n",
    "    baseline='bottom', # top middle\n",
    "    dx=0  # Nudges text to right so it doesn't appear on top of the bar\n",
    ").encode(\n",
    "    text='profit:Q',\n",
    ")\n",
    "alt.layer(points, text)"
   ]
  },
  {
   "cell_type": "code",
   "execution_count": null,
   "metadata": {
    "colab": {
     "base_uri": "https://localhost:8080/",
     "height": 34
    },
    "id": "ikLMhpeqzBDO",
    "outputId": "8ce684b1-4ed9-4b7f-e83c-35d0af986a40"
   },
   "outputs": [
    {
     "name": "stdout",
     "output_type": "stream",
     "text": [
      "[jovian] Detected Colab notebook...\u001b[0m\n",
      "[jovian] Uploading colab notebook to Jovian...\u001b[0m\n"
     ]
    }
   ],
   "source": [
    "jovian.commit(project='my-project', environment=None)"
   ]
  },
  {
   "cell_type": "markdown",
   "metadata": {
    "id": "zMCOCc7aEkZd"
   },
   "source": [
    "## Release Year "
   ]
  },
  {
   "cell_type": "code",
   "execution_count": null,
   "metadata": {
    "id": "Tklay_ZwrU1G"
   },
   "outputs": [],
   "source": [
    "ry = movies.loc[:, ['release_date', 'title', 'revenue', 'budget']]\n",
    "ry.release_date.dropna(inplace=True)\n",
    "ry['release_year'] = ry.release_date.apply(lambda x:x.year)\n",
    "ry.drop(columns=['release_date'], inplace=True)\n",
    "ry = ry.convert_dtypes()"
   ]
  },
  {
   "cell_type": "markdown",
   "metadata": {
    "id": "p0AwhbrCvOLT"
   },
   "source": [
    "### Total number of movies released every year, highest of it?. "
   ]
  },
  {
   "cell_type": "code",
   "execution_count": null,
   "metadata": {
    "id": "JnAST_vcfAQD"
   },
   "outputs": [],
   "source": [
    "# Total number of movies released every year, highest of it?.\n",
    "yt = ry.release_year.value_counts().sort_values(ascending=False).reset_index()\n",
    "yt.columns = ['year', 'counts']\n",
    "\n",
    "bars = alt.Chart(yt.head(20)).mark_bar().encode(\n",
    "    x='year:O',\n",
    "    y='counts:Q',\n",
    "    color = alt.condition(\n",
    "        datum.counts == np.amax(yt['counts']),\n",
    "        alt.value('red'),\n",
    "        alt.value('green')\n",
    "    ),\n",
    "    tooltip = ['counts', 'year']\n",
    ").properties(\n",
    "    title='Which Year Maximum movies released.',\n",
    "    height=200,\n",
    "    width=500\n",
    ")\n",
    "text = bars.mark_text(\n",
    "    align='center', # center left right\n",
    "    baseline='bottom', # top middle\n",
    "    dx=0  # Nudges text to right so it doesn't appear on top of the bar\n",
    ").encode(\n",
    "    text='counts:Q'\n",
    ")\n",
    "alt.layer(bars, text)\n",
    "\n"
   ]
  },
  {
   "cell_type": "markdown",
   "metadata": {
    "id": "YFSwFxnVvTit"
   },
   "source": [
    "### How budget varies every year?."
   ]
  },
  {
   "cell_type": "code",
   "execution_count": null,
   "metadata": {
    "id": "kZ3_U1MjzZoR"
   },
   "outputs": [],
   "source": [
    "by = ry.sort_values(by='release_year', ascending=False)\n",
    "by = by.loc[by['release_year'] >= 2000, :]\n",
    "data = by.groupby('release_year').sum().reset_index()\n",
    "a1 = alt.Chart(data).mark_circle(color='red').encode(\n",
    "    x='release_year:O',\n",
    "    y='budget:Q',\n",
    "    size='budget:Q',\n",
    "    tooltip=['release_year', 'budget']\n",
    ").properties(\n",
    "    title='How budget/revenue varies each year'\n",
    ")\n",
    "a2 = alt.Chart(data).mark_circle(opacity=0.3, color='green').encode(\n",
    "    x='release_year:O',\n",
    "    y='revenue:Q',\n",
    "    size='revenue:Q',\n",
    "    tooltip=['release_year', 'revenue']\n",
    ")\n",
    "alt.layer(a1, a2)"
   ]
  },
  {
   "cell_type": "code",
   "execution_count": null,
   "metadata": {
    "id": "V9Flg24Ds_-g"
   },
   "outputs": [],
   "source": [
    "# commit to jovian.ml\n",
    "jovian.commit(project='my-project', environment=None)"
   ]
  },
  {
   "cell_type": "markdown",
   "metadata": {
    "id": "zowrjSPt-Jta"
   },
   "source": [
    "# Asking and Answering Questions"
   ]
  },
  {
   "cell_type": "markdown",
   "metadata": {
    "id": "YHc88L4k-YQV"
   },
   "source": [
    "## Most succesful actors based on revenue?."
   ]
  },
  {
   "cell_type": "code",
   "execution_count": null,
   "metadata": {
    "id": "68pt-crD-ZT3"
   },
   "outputs": [],
   "source": [
    "actors = movies.copy()\n",
    "actors.set_index('id', inplace=True)\n",
    "actor = actors.cast.str.split(\"|\", expand = True)\n",
    "actor = actor.stack().reset_index(level=1, drop=True).to_frame()\n",
    "actor.columns = ['actor']\n",
    "actor = actor.merge(actors[['title', 'revenue', 'budget', 'vote_average', 'popularity']], \n",
    "            how='left', left_index=True, right_index=True)"
   ]
  },
  {
   "cell_type": "markdown",
   "metadata": {
    "id": "tBi4KGSMgeGK"
   },
   "source": [
    "### Most number of movies acted by."
   ]
  },
  {
   "cell_type": "code",
   "execution_count": null,
   "metadata": {
    "id": "zwMnLm2AbPVi"
   },
   "outputs": [],
   "source": [
    "# Most number of movies acted by.\n",
    "act = actor.actor.value_counts().reset_index()\n",
    "act.columns = ['actor', 'counts']\n",
    "\n",
    "bars = alt.Chart(act.head(20)).mark_bar().encode(\n",
    "    x = 'actor:O',\n",
    "    y = 'counts:Q',\n",
    "    color = alt.condition(\n",
    "        datum.counts == np.amax(act.counts),\n",
    "        alt.value('red'),\n",
    "        alt.value('green')\n",
    "    ),\n",
    "    tooltip='actor'\n",
    ").properties(\n",
    "    title='Most Number of Films Acted by',\n",
    "    height=200,\n",
    "    width=500\n",
    ")\n",
    "text = bars.mark_text(\n",
    "    align='center', # center left right\n",
    "    baseline='bottom', # top middle\n",
    "    dx=0  # Nudges text to right so it doesn't appear on top of the bar\n",
    ").encode(\n",
    "    text='counts:Q'\n",
    ")\n",
    "alt.layer(bars, text)\n"
   ]
  },
  {
   "cell_type": "markdown",
   "metadata": {
    "id": "7cbdqGWggo8z"
   },
   "source": [
    "### Actors with highest revenue"
   ]
  },
  {
   "cell_type": "code",
   "execution_count": null,
   "metadata": {
    "id": "qryk2LjegnqT"
   },
   "outputs": [],
   "source": [
    "# ['title', 'revenue', 'budget', 'vote_average', 'popularity', 'profit', 'return']\n",
    "act = actor.groupby(\"actor\").agg(Total_Revenue = (\"revenue\", \"sum\"), \n",
    "                                 Total_Budget = (\"budget\", 'sum'),\n",
    "                               Mean_Rating = (\"vote_average\", \"mean\"), \n",
    "                               Mean_Popularity = (\"popularity\", \"mean\"), \n",
    "                               Total_Movies = (\"title\", \"count\"))\n",
    "act = act.sort_values(by = ['Total_Revenue'], ascending = False)\n",
    "# act.nlargest(10, 'Total_Revenue')\n",
    "bar = alt.Chart(act.reset_index().head(20)).mark_circle(color='green').encode(\n",
    "    x='actor:O',\n",
    "    y=alt.Y('Total_Revenue:Q'),\n",
    "    size='Total_Revenue:Q',\n",
    "    tooltip=['actor', 'Total_Revenue'],\n",
    "    color = alt.condition(\n",
    "        datum.Total_Revenue == np.amax(act.reset_index().Total_Revenue),\n",
    "        alt.value('purple'),\n",
    "        alt.value('green'))\n",
    ").properties(\n",
    "    title='Actors with Highest Revenue'\n",
    ")\n",
    "area = alt.Chart(act.reset_index().head(20)).mark_point(color='red').encode(\n",
    "    x='actor:O',\n",
    "    y='Total_Budget:Q',\n",
    "    size='Total_Budget:Q',\n",
    "    tooltip=['actor', 'Total_Budget'],\n",
    "    color = alt.condition(\n",
    "        datum.Total_Budget == np.amax(act.reset_index().Total_Budget),\n",
    "        alt.value('purple'),\n",
    "        alt.value('red'))\n",
    ")\n",
    "alt.layer(bar, area)"
   ]
  },
  {
   "cell_type": "code",
   "execution_count": null,
   "metadata": {
    "id": "hbrDwP0azBJ4"
   },
   "outputs": [],
   "source": [
    "# commit to jovian.ml\n",
    "jovian.commit(project='my-project', environment=None)"
   ]
  },
  {
   "cell_type": "markdown",
   "metadata": {
    "id": "U7PrvkNE-O5p"
   },
   "source": [
    "## Are film series succesful?."
   ]
  },
  {
   "cell_type": "code",
   "execution_count": null,
   "metadata": {
    "id": "5vk6rQhGKdRE"
   },
   "outputs": [],
   "source": [
    "movies.belongs_to_collection.head()\n",
    "# not nan values :- true and nan :- false\n",
    "movies['series'] = movies.belongs_to_collection.notna()\n",
    "# series = movies.copy()"
   ]
  },
  {
   "cell_type": "code",
   "execution_count": null,
   "metadata": {
    "id": "MuS8iIxGJPFj"
   },
   "outputs": [],
   "source": [
    "# films grouped by series\n",
    "movies.groupby('series').aggregate({'title':'count', 'budget':['sum', 'mean'],\n",
    "                                    'revenue':['sum', 'mean'], 'profit':'mean',\n",
    "                                    'returns':'median', 'vote_count':'mean',\n",
    "                                    'vote_average':'mean','popularity':'mean'})"
   ]
  },
  {
   "cell_type": "code",
   "execution_count": null,
   "metadata": {
    "id": "cMNMPEdANOCl"
   },
   "outputs": [],
   "source": [
    "series = movies.groupby('belongs_to_collection').aggregate({'title':'count', 'budget':['sum', 'mean'],\n",
    "                                    'revenue':['sum', 'mean'], 'profit':'mean',\n",
    "                                    'returns':'mean', 'vote_count':'mean',\n",
    "                                    'vote_average':'mean','popularity':'mean'})"
   ]
  },
  {
   "cell_type": "markdown",
   "metadata": {
    "id": "bJnoHoEa22Hh"
   },
   "source": [
    "### Which series has highest number of movies?."
   ]
  },
  {
   "cell_type": "code",
   "execution_count": null,
   "metadata": {
    "id": "QffqddrNNPnA"
   },
   "outputs": [],
   "source": [
    "series.nlargest(10, ('title', 'count'))"
   ]
  },
  {
   "cell_type": "markdown",
   "metadata": {
    "id": "-wd_nqt13CnM"
   },
   "source": [
    "### Which series has highest revenue?."
   ]
  },
  {
   "cell_type": "code",
   "execution_count": null,
   "metadata": {
    "id": "O-gPJzZfNQRU"
   },
   "outputs": [],
   "source": [
    "series.nlargest(10, ('revenue', 'sum'))"
   ]
  },
  {
   "cell_type": "markdown",
   "metadata": {
    "id": "b3hqDaE83ivt"
   },
   "source": [
    "### Which series has highest mean budget?."
   ]
  },
  {
   "cell_type": "code",
   "execution_count": null,
   "metadata": {
    "id": "0ISeEAPHP5ul"
   },
   "outputs": [],
   "source": [
    "series.nlargest(10, ('budget', 'mean'))"
   ]
  },
  {
   "cell_type": "markdown",
   "metadata": {
    "id": "HZdPln6x3s6V"
   },
   "source": [
    "### Which series has highest return?."
   ]
  },
  {
   "cell_type": "code",
   "execution_count": null,
   "metadata": {
    "id": "quHe_TvqQDWj"
   },
   "outputs": [],
   "source": [
    "ser = movies.dropna(subset=['budget'])\n",
    "series = ser.groupby('belongs_to_collection').aggregate({'title':'count', 'budget':['mean'],\n",
    "                                    'revenue':['sum', 'mean'], 'profit':'mean',\n",
    "                                    'returns':'mean', 'vote_count':'mean',\n",
    "                                    'vote_average':'mean','popularity':'mean'})\n",
    "series.nlargest(10, ('returns', 'mean'))"
   ]
  },
  {
   "cell_type": "code",
   "execution_count": null,
   "metadata": {
    "id": "vXY3fwKNQs3J"
   },
   "outputs": [],
   "source": [
    "# commit to jovian.ml\n",
    "jovian.commit(project='my-project', environment=None)"
   ]
  },
  {
   "cell_type": "markdown",
   "metadata": {
    "id": "ljwzcy7b-Tcl"
   },
   "source": [
    "## Find best production companies?."
   ]
  },
  {
   "cell_type": "code",
   "execution_count": null,
   "metadata": {
    "id": "ELs2ypz4tDYe"
   },
   "outputs": [],
   "source": [
    "movies.production_companies.value_counts().head(5)\n",
    "pc = movies.copy()\n",
    "pc.set_index('id', inplace=True)\n",
    "company = pc.production_companies.str.split(\"|\", expand = True)\n",
    "company = company.stack().reset_index(level=1, drop=True).to_frame()\n",
    "company.columns = ['production_companies']\n",
    "company = company.merge(pc[['title', 'revenue', 'budget', 'vote_average', 'popularity', 'profit', 'returns']], \n",
    "            how='left', left_index=True, right_index=True)\n",
    "company.drop_duplicates(subset=['production_companies', 'title'], inplace=True)"
   ]
  },
  {
   "cell_type": "markdown",
   "metadata": {
    "id": "-Y2r8VCDzBO9"
   },
   "source": [
    "### Which company produced most movies?"
   ]
  },
  {
   "cell_type": "code",
   "execution_count": null,
   "metadata": {
    "id": "58uOZgwLzBPa"
   },
   "outputs": [],
   "source": [
    "# company[company['production_companies'] == 'Warner Bros.'].title.value_counts(ascending=False)\n",
    "company['production_companies'].value_counts().head(10)"
   ]
  },
  {
   "cell_type": "markdown",
   "metadata": {
    "id": "pmVqxCZVzBQA"
   },
   "source": [
    "### Companies with most revenue?"
   ]
  },
  {
   "cell_type": "code",
   "execution_count": null,
   "metadata": {
    "id": "WNgOYUdWzBQF"
   },
   "outputs": [],
   "source": [
    "company.groupby('production_companies').agg({'revenue':'sum', 'budget':'sum',\n",
    "                                            'vote_average':'mean', 'popularity':'mean',\n",
    "                                            'profit':'sum'}).sort_values('revenue', ascending=False).head(10)"
   ]
  },
  {
   "cell_type": "markdown",
   "metadata": {
    "id": "5kob46UFzBQt"
   },
   "source": [
    "### Companies most popular with budget spent above 5000 million usd?"
   ]
  },
  {
   "cell_type": "code",
   "execution_count": null,
   "metadata": {
    "id": "1oj3Ere5zBRE"
   },
   "outputs": [],
   "source": [
    "cb1000 = company.groupby('production_companies').agg({'revenue':'sum', 'budget':'sum',\n",
    "                                            'vote_average':'mean', 'popularity':'mean',\n",
    "                                            'profit':'sum'})\n",
    "cb1000.loc[cb1000.budget > 5000].sort_values('popularity', ascending=False).head(10)"
   ]
  },
  {
   "cell_type": "code",
   "execution_count": null,
   "metadata": {
    "id": "3LjSPiaIzBRd"
   },
   "outputs": [],
   "source": [
    "# commit to jovian.ml\n",
    "jovian.commit(project='my-project', environment=None)"
   ]
  },
  {
   "cell_type": "markdown",
   "metadata": {
    "id": "R3Qsa-K_-VBL"
   },
   "source": [
    "## Find Hit and Flop movies based on votes, rating, popularity and budget?"
   ]
  },
  {
   "cell_type": "code",
   "execution_count": null,
   "metadata": {
    "id": "9jFdNrmt-WE7",
    "scrolled": true
   },
   "outputs": [],
   "source": [
    "# function to find hit and flop movies\n",
    "def hit_flop(n, by, ascending=False, bud_min = 0, avg_vot = 0, vot_min = 0, pop_min = 0):\n",
    "    data = movies.loc[((movies.budget >= bud_min) & (movies.vote_average >= avg_vot) & (movies.vote_count >= vot_min) & (movies.popularity >= pop_min)), :]\n",
    "    data = data.sort_values(by=by, ascending=ascending).head(n).copy()\n",
    "    data = data.loc[:, ['title', 'director', 'screenplay', 'budget', 'revenue', 'profit', 'returns', 'vote_average', 'vote_count', 'popularity', 'production_companies']]\n",
    "    data = data.reset_index(level=0, drop=True)\n",
    "    return data"
   ]
  },
  {
   "cell_type": "markdown",
   "metadata": {
    "id": "Y2FeUeZOzBS4"
   },
   "source": [
    "### Movies with high budget?"
   ]
  },
  {
   "cell_type": "code",
   "execution_count": null,
   "metadata": {
    "id": "TTe0srpbzBTB"
   },
   "outputs": [],
   "source": [
    "hit_flop(5, by='budget')"
   ]
  },
  {
   "cell_type": "markdown",
   "metadata": {
    "id": "w1u3ujqGzBTj"
   },
   "source": [
    "### Highested rated movies?"
   ]
  },
  {
   "cell_type": "code",
   "execution_count": null,
   "metadata": {
    "id": "8hFw4BkYzBTo"
   },
   "outputs": [],
   "source": [
    "hit_flop(5, by='vote_average', bud_min=10, vot_min = 500, pop_min = 20)"
   ]
  },
  {
   "cell_type": "markdown",
   "metadata": {
    "id": "SPgNRzdczBT_"
   },
   "source": [
    "### Hit movies"
   ]
  },
  {
   "cell_type": "code",
   "execution_count": null,
   "metadata": {
    "id": "CRCx93dezBUG"
   },
   "outputs": [],
   "source": [
    "hit_flop(5, by='returns', bud_min=10)"
   ]
  },
  {
   "cell_type": "markdown",
   "metadata": {
    "id": "3vXqyHNIzBVg"
   },
   "source": [
    "### Flop movies"
   ]
  },
  {
   "cell_type": "code",
   "execution_count": null,
   "metadata": {
    "id": "DWN5rrzFzBVp"
   },
   "outputs": [],
   "source": [
    "hit_flop(5, by='returns', bud_min=50, ascending=True)"
   ]
  },
  {
   "cell_type": "code",
   "execution_count": null,
   "metadata": {
    "id": "ufv8DeqQzBWS"
   },
   "outputs": [],
   "source": [
    "# commit to jovian.ml\n",
    "jovian.commit(project='my-project', environment=None)"
   ]
  },
  {
   "cell_type": "markdown",
   "metadata": {
    "id": "rO-mYdvX-aCl"
   },
   "source": [
    "## Genres and movies success?."
   ]
  },
  {
   "cell_type": "code",
   "execution_count": null,
   "metadata": {
    "id": "05fzZtM_zBWp"
   },
   "outputs": [],
   "source": [
    "genres = movies.copy()\n",
    "genres.set_index('id', inplace=True)\n",
    "genre = genres['genres'].str.split(\"|\", expand = True)\n",
    "genre = genre.stack().reset_index(level=1, drop=True).to_frame()\n",
    "genre.columns = ['genres']\n",
    "genre = genre.merge(genres[['title', 'revenue', 'budget', 'vote_average', 'popularity', 'release_date']], \n",
    "            how='left', left_index=True, right_index=True)\n",
    "genre.drop_duplicates(subset=['genres', 'title'], inplace=True)\n",
    "genre['year'] = genre.release_date.apply(lambda x: x.year)\n",
    "genre.drop(columns=['release_date'], inplace=True)\n",
    "genre = genre.convert_dtypes()"
   ]
  },
  {
   "cell_type": "markdown",
   "metadata": {
    "id": "WbBnpPWazBW7"
   },
   "source": [
    "### Which genre has most movies?"
   ]
  },
  {
   "cell_type": "code",
   "execution_count": null,
   "metadata": {
    "id": "RuM8K6TOzBW9",
    "scrolled": true
   },
   "outputs": [],
   "source": [
    "genre.genres.value_counts().head()"
   ]
  },
  {
   "cell_type": "markdown",
   "metadata": {
    "id": "IO6XNZsHzBXd"
   },
   "source": [
    "### Genres popular year to year"
   ]
  },
  {
   "cell_type": "code",
   "execution_count": null,
   "metadata": {
    "id": "aFk4PXuRzBXj"
   },
   "outputs": [],
   "source": [
    "genre.sort_values(by='year', ascending=False, inplace=True)\n",
    "gen = genre.loc[genre.year > 1999, :]\n",
    "# gpyy = gen.groupby(['year', 'genres']).agg({'title':'count',\n",
    "#                                     'revenue':'sum',\n",
    "#                                      'budget':'sum',\n",
    "#                                      'vote_average':'mean',\n",
    "#                                      'popularity':'sum'\n",
    "#                                     })\n",
    "gpyy = gen.groupby(['year', 'genres']).agg(total_no=('title', 'count'),\n",
    "                                    revenue = ('revenue', 'mean'),\n",
    "                                    budget = ('budget', 'mean'),\n",
    "                                    vote = ('vote_average', 'mean'),\n",
    "                                    popularity = ('popularity', 'mean'))\n",
    "                                    \n",
    "col = ['revenue', 'budget', 'vote', 'popularity']\n",
    "for value in col:\n",
    "    gpyy[col] = gpyy[col].apply(lambda x:round(x, ndigits=2))"
   ]
  },
  {
   "cell_type": "code",
   "execution_count": null,
   "metadata": {
    "id": "Kln74CEKzBYC"
   },
   "outputs": [],
   "source": [
    "gp = gpyy.reset_index().sort_values(by=['year','total_no'], ascending=[False, False])\n",
    "gp.head()"
   ]
  },
  {
   "cell_type": "code",
   "execution_count": null,
   "metadata": {
    "id": "PsAjR31hzBYl",
    "scrolled": true
   },
   "outputs": [],
   "source": [
    "# highest released genre.\n",
    "gpyy.nlargest(5, columns=['total_no'])"
   ]
  },
  {
   "cell_type": "code",
   "execution_count": null,
   "metadata": {
    "id": "1Vt1swALzBZK",
    "scrolled": false
   },
   "outputs": [],
   "source": [
    "# highest revenue generated genre all years\n",
    "gpyy.nlargest(5, columns=['revenue'])"
   ]
  },
  {
   "cell_type": "code",
   "execution_count": null,
   "metadata": {
    "id": "IPPg3MW8zBZY",
    "scrolled": true
   },
   "outputs": [],
   "source": [
    "# highest popular genre all years\n",
    "gp.loc[gp.loc[:,'total_no'] > 10, :].sort_values(by=['popularity'], ascending=[False]).head()"
   ]
  },
  {
   "cell_type": "code",
   "execution_count": null,
   "metadata": {
    "id": "37EePg6YzBaK"
   },
   "outputs": [],
   "source": [
    "# genres popular each year\n",
    "total_no = alt.Chart(gpyy.reset_index()).mark_area().encode(\n",
    "    x='year:O',\n",
    "    y='total_no:Q',\n",
    "    color='genres:N',\n",
    "    size='total_no:Q',\n",
    "    tooltip=['total_no', 'genres', 'year']\n",
    ").interactive().properties(title='Total number of different genres released each year.')\n",
    "revenue = alt.Chart(gpyy.reset_index()).mark_area().encode(\n",
    "    x='year:O',\n",
    "    y='revenue:Q',\n",
    "    color='genres:N',\n",
    "    size='revenue:Q',\n",
    "    tooltip=['revenue', 'genres', 'year']\n",
    ").interactive().properties(title='Mean revenue of different genres released each year')\n",
    "budget = alt.Chart(gpyy.reset_index()).mark_area().encode(\n",
    "    x='year:O',\n",
    "    y='budget:Q',\n",
    "    color='genres:N',\n",
    "    size='budget:Q',\n",
    "    tooltip=['budget', 'genres', 'year']\n",
    ").interactive().properties(title='Mean budget of different genres released each year')\n",
    "vote = alt.Chart(gpyy.reset_index()).mark_area().encode(\n",
    "    x='year:O',\n",
    "    y='vote:Q',\n",
    "    color='genres:N',\n",
    "    size='vote:Q',\n",
    "    tooltip=['vote', 'genres', 'year']\n",
    ").interactive().properties(title='Mean vote of different genres released each year')\n",
    "popularity = alt.Chart(gpyy.reset_index()).mark_area().encode(\n",
    "    x='year:O',\n",
    "    y='popularity:Q',\n",
    "    color='genres:N',\n",
    "    size='popularity:Q',\n",
    "    tooltip=['popularity', 'genres', 'year']\n",
    ").interactive().properties(title='Mean popularity of different genres released each year')\n",
    "alt.hconcat(total_no, revenue, budget, popularity, vote)"
   ]
  },
  {
   "cell_type": "code",
   "execution_count": null,
   "metadata": {
    "id": "V1UQSRolzBbO"
   },
   "outputs": [],
   "source": [
    "# commit to jovian.ml\n",
    "jovian.commit(project='my-project', environment=None)"
   ]
  },
  {
   "cell_type": "markdown",
   "metadata": {
    "id": "LF1pn12u-uo1"
   },
   "source": [
    "# Inferences and Conclusions"
   ]
  },
  {
   "cell_type": "markdown",
   "metadata": {
    "id": "M22fuKHYC67L"
   },
   "source": [
    "* Movies directed by John Ford - 66, Michael Curtiz - 65 are highest.\n",
    "* Most succesful director by profit are Steven Spielberg: with 7520 million usd, Peter Jackson: with 5202 million usd.  \n",
    "* Movies written by Woody Allen - 32, Nunnally Johnson - 28 are highest.  \n",
    "* Most succesful writers by profit are Steve Kloves: with 5636 million usd, James Cameron: with 4610 million usd.  \n",
    "* Maximum profit is for movie Avatar by James Cameron, 2550 million usd.  \n",
    "* Highest number of movies released is in 2014, 1961 movies.  \n",
    "* Revenue shoot up linearly with year, while budget increases slightly every year.  \n",
    "* Bess flowers acted in 240 movies is highest.\n",
    "* Actors with highest total revenues are Stan Lee: 19414 million usd and Samuel L Jackson: 17109 million usd.  \n",
    "* Film Series are very succesful, mean revenue, return are higher than non series and more popular than non series.  \n",
    "* Largest series by revenue are Harry Potter series, Star Wars series, James Bond series.  \n",
    "* Warner Bros and followed by MGM are top in movie production.  \n",
    "* Highest revenue is obtained for Warner Bros and second is for Universal Pictures.  \n",
    "* Most popular production companies are Village Roadshow and Dreamworks SKG.  \n",
    "* Pirates of the Caribbean. On Stranger Tides (380 musd) and Pirates of the Caribbean. At's world's end (300 musd) are the highest budget movies.  \n",
    "* Dilwale Dulhania Le Jayenge and The Shawshank Redemption are highest rated movies.  \n",
    "* E.T. The Extra Terrestrial and Star Wars has highest return.  \n",
    "* Drama, followed by Comedy and Thriller movies are produced more.  \n",
    "* Adventure, followed by Science Fiction and Action are most popular genres.\n"
   ]
  },
  {
   "cell_type": "code",
   "execution_count": null,
   "metadata": {
    "id": "5CjWrnynzBdJ"
   },
   "outputs": [],
   "source": [
    "# commit to jovian.ml\n",
    "jovian.commit(project='my-project', environment=None)"
   ]
  },
  {
   "cell_type": "code",
   "execution_count": null,
   "metadata": {
    "id": "zs-Rs4aBzBeJ"
   },
   "outputs": [],
   "source": []
  }
 ],
 "metadata": {
  "colab": {
   "collapsed_sections": [
    "N5JqA6uPJyZz",
    "iVrX8WuCJyea",
    "vnohMeFIJye4"
   ],
   "name": "my_project.ipynb",
   "provenance": [],
   "toc_visible": true
  },
  "kernelspec": {
   "display_name": "Python 3",
   "language": "python",
   "name": "python3"
  },
  "language_info": {
   "codemirror_mode": {
    "name": "ipython",
    "version": 3
   },
   "file_extension": ".py",
   "mimetype": "text/x-python",
   "name": "python",
   "nbconvert_exporter": "python",
   "pygments_lexer": "ipython3",
   "version": "3.8.3"
  }
 },
 "nbformat": 4,
 "nbformat_minor": 1
}
